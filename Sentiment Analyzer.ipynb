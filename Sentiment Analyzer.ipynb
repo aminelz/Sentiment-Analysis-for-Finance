{
 "cells": [
  {
   "cell_type": "code",
   "execution_count": 66,
   "metadata": {},
   "outputs": [],
   "source": [
    "import numpy as np\n",
    "import pandas as pd\n",
    "pd.options.mode.chained_assignment = None\n",
    "import seaborn as sns\n",
    "import re\n",
    "import emoji\n",
    "import time\n",
    "import sklearn\n",
    "from sklearn.model_selection import train_test_split\n",
    "from sklearn import model_selection, naive_bayes, svm\n",
    "from sklearn.linear_model import LogisticRegression, LogisticRegressionCV\n",
    "from sklearn.metrics import accuracy_score, confusion_matrix, plot_confusion_matrix\n",
    "from sklearn import utils\n",
    "from sklearn.feature_extraction.text import TfidfVectorizer, CountVectorizer\n",
    "from sklearn.naive_bayes import MultinomialNB\n",
    "np.random.seed(500) "
   ]
  },
  {
   "cell_type": "markdown",
   "metadata": {},
   "source": [
    "# Importing data "
   ]
  },
  {
   "cell_type": "code",
   "execution_count": 67,
   "metadata": {},
   "outputs": [
    {
     "data": {
      "text/html": [
       "<div>\n",
       "<style scoped>\n",
       "    .dataframe tbody tr th:only-of-type {\n",
       "        vertical-align: middle;\n",
       "    }\n",
       "\n",
       "    .dataframe tbody tr th {\n",
       "        vertical-align: top;\n",
       "    }\n",
       "\n",
       "    .dataframe thead th {\n",
       "        text-align: right;\n",
       "    }\n",
       "</style>\n",
       "<table border=\"1\" class=\"dataframe\">\n",
       "  <thead>\n",
       "    <tr style=\"text-align: right;\">\n",
       "      <th></th>\n",
       "      <th>symbol</th>\n",
       "      <th>sentiment</th>\n",
       "      <th>message</th>\n",
       "      <th>message_id</th>\n",
       "    </tr>\n",
       "  </thead>\n",
       "  <tbody>\n",
       "    <tr>\n",
       "      <th>0</th>\n",
       "      <td>AAPL</td>\n",
       "      <td>Bullish</td>\n",
       "      <td>$AAPL ain’t nobody selling. Shorts need to cov...</td>\n",
       "      <td>304543565</td>\n",
       "    </tr>\n",
       "    <tr>\n",
       "      <th>1</th>\n",
       "      <td>AAPL</td>\n",
       "      <td>Bullish</td>\n",
       "      <td>$QRVO today watch lists $CCIV $AAPL $RBLX</td>\n",
       "      <td>304543491</td>\n",
       "    </tr>\n",
       "    <tr>\n",
       "      <th>2</th>\n",
       "      <td>AAPL</td>\n",
       "      <td>Bullish</td>\n",
       "      <td>$AAPL could you imagine if we see $133+ by Fri...</td>\n",
       "      <td>304542855</td>\n",
       "    </tr>\n",
       "    <tr>\n",
       "      <th>3</th>\n",
       "      <td>AAPL</td>\n",
       "      <td>Bullish</td>\n",
       "      <td>$AAPL will revisit mid 126.xx\\nWay too early i...</td>\n",
       "      <td>304542796</td>\n",
       "    </tr>\n",
       "    <tr>\n",
       "      <th>4</th>\n",
       "      <td>AAPL</td>\n",
       "      <td>Bullish</td>\n",
       "      <td>$AAPL \\n\\nBears are cocksuckers</td>\n",
       "      <td>304542546</td>\n",
       "    </tr>\n",
       "    <tr>\n",
       "      <th>...</th>\n",
       "      <td>...</td>\n",
       "      <td>...</td>\n",
       "      <td>...</td>\n",
       "      <td>...</td>\n",
       "    </tr>\n",
       "    <tr>\n",
       "      <th>291563</th>\n",
       "      <td>FB</td>\n",
       "      <td>Bullish</td>\n",
       "      <td>$FB I&amp;#39;m excited about next week</td>\n",
       "      <td>19228876</td>\n",
       "    </tr>\n",
       "    <tr>\n",
       "      <th>291564</th>\n",
       "      <td>FB</td>\n",
       "      <td>Bullish</td>\n",
       "      <td>@flavisam_letstradeshares Agree re $fb</td>\n",
       "      <td>19228800</td>\n",
       "    </tr>\n",
       "    <tr>\n",
       "      <th>291565</th>\n",
       "      <td>FB</td>\n",
       "      <td>Bullish</td>\n",
       "      <td>$FB looking to test the 52w high at 58.96 (Jan9)</td>\n",
       "      <td>19228632</td>\n",
       "    </tr>\n",
       "    <tr>\n",
       "      <th>291566</th>\n",
       "      <td>FB</td>\n",
       "      <td>Bullish</td>\n",
       "      <td>Recent sold $BBRY $IRWD $OREX $ACHN $LNKD $ANG...</td>\n",
       "      <td>19228264</td>\n",
       "    </tr>\n",
       "    <tr>\n",
       "      <th>291567</th>\n",
       "      <td>FB</td>\n",
       "      <td>Bearish</td>\n",
       "      <td>$FB: this one keeps forging ahead. Bullish sen...</td>\n",
       "      <td>19228259</td>\n",
       "    </tr>\n",
       "  </tbody>\n",
       "</table>\n",
       "<p>291568 rows × 4 columns</p>\n",
       "</div>"
      ],
      "text/plain": [
       "       symbol sentiment                                            message  \\\n",
       "0        AAPL   Bullish  $AAPL ain’t nobody selling. Shorts need to cov...   \n",
       "1        AAPL   Bullish          $QRVO today watch lists $CCIV $AAPL $RBLX   \n",
       "2        AAPL   Bullish  $AAPL could you imagine if we see $133+ by Fri...   \n",
       "3        AAPL   Bullish  $AAPL will revisit mid 126.xx\\nWay too early i...   \n",
       "4        AAPL   Bullish                    $AAPL \\n\\nBears are cocksuckers   \n",
       "...       ...       ...                                                ...   \n",
       "291563     FB   Bullish                $FB I&#39;m excited about next week   \n",
       "291564     FB   Bullish             @flavisam_letstradeshares Agree re $fb   \n",
       "291565     FB   Bullish   $FB looking to test the 52w high at 58.96 (Jan9)   \n",
       "291566     FB   Bullish  Recent sold $BBRY $IRWD $OREX $ACHN $LNKD $ANG...   \n",
       "291567     FB   Bearish  $FB: this one keeps forging ahead. Bullish sen...   \n",
       "\n",
       "        message_id  \n",
       "0        304543565  \n",
       "1        304543491  \n",
       "2        304542855  \n",
       "3        304542796  \n",
       "4        304542546  \n",
       "...            ...  \n",
       "291563    19228876  \n",
       "291564    19228800  \n",
       "291565    19228632  \n",
       "291566    19228264  \n",
       "291567    19228259  \n",
       "\n",
       "[291568 rows x 4 columns]"
      ]
     },
     "execution_count": 67,
     "metadata": {},
     "output_type": "execute_result"
    }
   ],
   "source": [
    "unprocessed_stocks = pd.read_csv(\"./data/stock_db.csv\")\n",
    "unprocessed_crypto = pd.read_csv(\"./data/crypto_db.csv\")\n",
    "unprocessed_stocks"
   ]
  },
  {
   "cell_type": "code",
   "execution_count": 68,
   "metadata": {},
   "outputs": [
    {
     "name": "stdout",
     "output_type": "stream",
     "text": [
      "291568\n",
      "305974\n"
     ]
    }
   ],
   "source": [
    "print(len(unprocessed_stocks))\n",
    "print(len(unprocessed_crypto))"
   ]
  },
  {
   "cell_type": "markdown",
   "metadata": {},
   "source": [
    "# Visualizing the data"
   ]
  },
  {
   "cell_type": "code",
   "execution_count": 69,
   "metadata": {},
   "outputs": [
    {
     "data": {
      "text/plain": [
       "<seaborn.axisgrid.FacetGrid at 0x12ea9ddc0>"
      ]
     },
     "execution_count": 69,
     "metadata": {},
     "output_type": "execute_result"
    },
    {
     "data": {
      "image/png": "[encoded data removed]",
      "text/plain": [
       "<Figure size 360x360 with 1 Axes>"
      ]
     },
     "metadata": {
      "needs_background": "light"
     },
     "output_type": "display_data"
    },
    {
     "data": {
      "image/png": "[encoded data removed]",
      "text/plain": [
       "<Figure size 360x360 with 1 Axes>"
      ]
     },
     "metadata": {
      "needs_background": "light"
     },
     "output_type": "display_data"
    },
    {
     "data": {
      "image/png": "[encoded data removed]",
      "text/plain": [
       "<Figure size 360x360 with 1 Axes>"
      ]
     },
     "metadata": {
      "needs_background": "light"
     },
     "output_type": "display_data"
    },
    {
     "data": {
      "image/png": "[encoded data removed]",
      "text/plain": [
       "<Figure size 360x360 with 1 Axes>"
      ]
     },
     "metadata": {
      "needs_background": "light"
     },
     "output_type": "display_data"
    }
   ],
   "source": [
    "sns.displot(unprocessed_stocks, x=\"symbol\")\n",
    "sns.displot(unprocessed_crypto, x=\"symbol\")\n",
    "sns.displot(unprocessed_stocks, x=\"sentiment\")\n",
    "sns.displot(unprocessed_crypto, x=\"sentiment\")"
   ]
  },
  {
   "cell_type": "markdown",
   "metadata": {},
   "source": [
    "# Preprocessing\n",
    "Here we define our preprocess function, one needs to specify which preprocessing functions he wants to be applied to the data messages\n",
    "\n"
   ]
  },
  {
   "cell_type": "code",
   "execution_count": 70,
   "metadata": {},
   "outputs": [],
   "source": [
    "from preprocessing import preprocess"
   ]
  },
  {
   "cell_type": "code",
   "execution_count": 58,
   "metadata": {},
   "outputs": [
    {
     "name": "stdout",
     "output_type": "stream",
     "text": [
      "CPU times: user 1.87 s, sys: 20.8 ms, total: 1.89 s\n",
      "Wall time: 1.91 s\n"
     ]
    },
    {
     "data": {
      "text/html": [
       "<div>\n",
       "<style scoped>\n",
       "    .dataframe tbody tr th:only-of-type {\n",
       "        vertical-align: middle;\n",
       "    }\n",
       "\n",
       "    .dataframe tbody tr th {\n",
       "        vertical-align: top;\n",
       "    }\n",
       "\n",
       "    .dataframe thead th {\n",
       "        text-align: right;\n",
       "    }\n",
       "</style>\n",
       "<table border=\"1\" class=\"dataframe\">\n",
       "  <thead>\n",
       "    <tr style=\"text-align: right;\">\n",
       "      <th></th>\n",
       "      <th>symbol</th>\n",
       "      <th>sentiment</th>\n",
       "      <th>message</th>\n",
       "      <th>message_id</th>\n",
       "    </tr>\n",
       "  </thead>\n",
       "  <tbody>\n",
       "    <tr>\n",
       "      <th>0</th>\n",
       "      <td>BTC.X</td>\n",
       "      <td>Bullish</td>\n",
       "      <td>btcx go go you beautiful bastard</td>\n",
       "      <td>304543745</td>\n",
       "    </tr>\n",
       "    <tr>\n",
       "      <th>1</th>\n",
       "      <td>BTC.X</td>\n",
       "      <td>Bullish</td>\n",
       "      <td>zilx nio ssnlf ethx btcx   httpsthefintechtime...</td>\n",
       "      <td>304543536</td>\n",
       "    </tr>\n",
       "    <tr>\n",
       "      <th>2</th>\n",
       "      <td>BTC.X</td>\n",
       "      <td>Bullish</td>\n",
       "      <td>btcx bitcoin is like real estate in palm beach...</td>\n",
       "      <td>304543059</td>\n",
       "    </tr>\n",
       "    <tr>\n",
       "      <th>3</th>\n",
       "      <td>BTC.X</td>\n",
       "      <td>Bearish</td>\n",
       "      <td>btcx dump city dump dump city</td>\n",
       "      <td>304542929</td>\n",
       "    </tr>\n",
       "    <tr>\n",
       "      <th>4</th>\n",
       "      <td>BTC.X</td>\n",
       "      <td>Bullish</td>\n",
       "      <td>aabb this baby about to riot mara fcel btcx</td>\n",
       "      <td>304542879</td>\n",
       "    </tr>\n",
       "    <tr>\n",
       "      <th>...</th>\n",
       "      <td>...</td>\n",
       "      <td>...</td>\n",
       "      <td>...</td>\n",
       "      <td>...</td>\n",
       "    </tr>\n",
       "    <tr>\n",
       "      <th>305969</th>\n",
       "      <td>ETH.X</td>\n",
       "      <td>Bullish</td>\n",
       "      <td>ethx heard a lot of quotcup and handlequot ear...</td>\n",
       "      <td>93993562</td>\n",
       "    </tr>\n",
       "    <tr>\n",
       "      <th>305970</th>\n",
       "      <td>ETH.X</td>\n",
       "      <td>Bullish</td>\n",
       "      <td>kmdx ethx ethereum reversing and komodo coin h...</td>\n",
       "      <td>93993304</td>\n",
       "    </tr>\n",
       "    <tr>\n",
       "      <th>305971</th>\n",
       "      <td>ETH.X</td>\n",
       "      <td>Bullish</td>\n",
       "      <td>ltcx btcx ethx heading uppppp</td>\n",
       "      <td>93992405</td>\n",
       "    </tr>\n",
       "    <tr>\n",
       "      <th>305972</th>\n",
       "      <td>ETH.X</td>\n",
       "      <td>Bullish</td>\n",
       "      <td>bchx btcx ethx ltcx  woo hoo we are rocking</td>\n",
       "      <td>93992251</td>\n",
       "    </tr>\n",
       "    <tr>\n",
       "      <th>305973</th>\n",
       "      <td>ETH.X</td>\n",
       "      <td>Bullish</td>\n",
       "      <td>btcx ethx ltcx added more bitcoin mining power...</td>\n",
       "      <td>93992218</td>\n",
       "    </tr>\n",
       "  </tbody>\n",
       "</table>\n",
       "<p>305974 rows × 4 columns</p>\n",
       "</div>"
      ],
      "text/plain": [
       "       symbol sentiment                                            message  \\\n",
       "0       BTC.X   Bullish                   btcx go go you beautiful bastard   \n",
       "1       BTC.X   Bullish  zilx nio ssnlf ethx btcx   httpsthefintechtime...   \n",
       "2       BTC.X   Bullish  btcx bitcoin is like real estate in palm beach...   \n",
       "3       BTC.X   Bearish                      btcx dump city dump dump city   \n",
       "4       BTC.X   Bullish        aabb this baby about to riot mara fcel btcx   \n",
       "...       ...       ...                                                ...   \n",
       "305969  ETH.X   Bullish  ethx heard a lot of quotcup and handlequot ear...   \n",
       "305970  ETH.X   Bullish  kmdx ethx ethereum reversing and komodo coin h...   \n",
       "305971  ETH.X   Bullish                      ltcx btcx ethx heading uppppp   \n",
       "305972  ETH.X   Bullish        bchx btcx ethx ltcx  woo hoo we are rocking   \n",
       "305973  ETH.X   Bullish  btcx ethx ltcx added more bitcoin mining power...   \n",
       "\n",
       "        message_id  \n",
       "0        304543745  \n",
       "1        304543536  \n",
       "2        304543059  \n",
       "3        304542929  \n",
       "4        304542879  \n",
       "...            ...  \n",
       "305969    93993562  \n",
       "305970    93993304  \n",
       "305971    93992405  \n",
       "305972    93992251  \n",
       "305973    93992218  \n",
       "\n",
       "[305974 rows x 4 columns]"
      ]
     },
     "execution_count": 58,
     "metadata": {},
     "output_type": "execute_result"
    }
   ],
   "source": [
    "%%time\n",
    "# temp = unprocessed_crypto[0:20]\n",
    "preprocessed_crypto = preprocess(unprocessed_crypto, punc=True, lower=True, lemma=False, em_rep=False, num=False, stopw=False, misspell=False)\n",
    "preprocessed_crypto\n"
   ]
  },
  {
   "cell_type": "code",
   "execution_count": 59,
   "metadata": {},
   "outputs": [
    {
     "name": "stdout",
     "output_type": "stream",
     "text": [
      "CPU times: user 195 ms, sys: 5.61 ms, total: 200 ms\n",
      "Wall time: 210 ms\n"
     ]
    },
    {
     "data": {
      "text/html": [
       "<div>\n",
       "<style scoped>\n",
       "    .dataframe tbody tr th:only-of-type {\n",
       "        vertical-align: middle;\n",
       "    }\n",
       "\n",
       "    .dataframe tbody tr th {\n",
       "        vertical-align: top;\n",
       "    }\n",
       "\n",
       "    .dataframe thead th {\n",
       "        text-align: right;\n",
       "    }\n",
       "</style>\n",
       "<table border=\"1\" class=\"dataframe\">\n",
       "  <thead>\n",
       "    <tr style=\"text-align: right;\">\n",
       "      <th></th>\n",
       "      <th>symbol</th>\n",
       "      <th>sentiment</th>\n",
       "      <th>message</th>\n",
       "      <th>message_id</th>\n",
       "    </tr>\n",
       "  </thead>\n",
       "  <tbody>\n",
       "    <tr>\n",
       "      <th>0</th>\n",
       "      <td>AAPL</td>\n",
       "      <td>Bullish</td>\n",
       "      <td>$AAPL ain’t nobody selling. Shorts need to cov...</td>\n",
       "      <td>304543565</td>\n",
       "    </tr>\n",
       "    <tr>\n",
       "      <th>1</th>\n",
       "      <td>AAPL</td>\n",
       "      <td>Bullish</td>\n",
       "      <td>$QRVO today watch lists $CCIV $AAPL $RBLX</td>\n",
       "      <td>304543491</td>\n",
       "    </tr>\n",
       "    <tr>\n",
       "      <th>2</th>\n",
       "      <td>AAPL</td>\n",
       "      <td>Bullish</td>\n",
       "      <td>$AAPL could you imagine if we see $133+ by Fri...</td>\n",
       "      <td>304542855</td>\n",
       "    </tr>\n",
       "    <tr>\n",
       "      <th>3</th>\n",
       "      <td>AAPL</td>\n",
       "      <td>Bullish</td>\n",
       "      <td>$AAPL will revisit mid 126.xx Way too early in...</td>\n",
       "      <td>304542796</td>\n",
       "    </tr>\n",
       "    <tr>\n",
       "      <th>4</th>\n",
       "      <td>AAPL</td>\n",
       "      <td>Bullish</td>\n",
       "      <td>$AAPL   Bears are cocksuckers</td>\n",
       "      <td>304542546</td>\n",
       "    </tr>\n",
       "    <tr>\n",
       "      <th>...</th>\n",
       "      <td>...</td>\n",
       "      <td>...</td>\n",
       "      <td>...</td>\n",
       "      <td>...</td>\n",
       "    </tr>\n",
       "    <tr>\n",
       "      <th>291563</th>\n",
       "      <td>FB</td>\n",
       "      <td>Bullish</td>\n",
       "      <td>$FB I&amp;#39;m excited about next week</td>\n",
       "      <td>19228876</td>\n",
       "    </tr>\n",
       "    <tr>\n",
       "      <th>291564</th>\n",
       "      <td>FB</td>\n",
       "      <td>Bullish</td>\n",
       "      <td>@flavisam_letstradeshares Agree re $fb</td>\n",
       "      <td>19228800</td>\n",
       "    </tr>\n",
       "    <tr>\n",
       "      <th>291565</th>\n",
       "      <td>FB</td>\n",
       "      <td>Bullish</td>\n",
       "      <td>$FB looking to test the 52w high at 58.96 (Jan9)</td>\n",
       "      <td>19228632</td>\n",
       "    </tr>\n",
       "    <tr>\n",
       "      <th>291566</th>\n",
       "      <td>FB</td>\n",
       "      <td>Bullish</td>\n",
       "      <td>Recent sold $BBRY $IRWD $OREX $ACHN $LNKD $ANG...</td>\n",
       "      <td>19228264</td>\n",
       "    </tr>\n",
       "    <tr>\n",
       "      <th>291567</th>\n",
       "      <td>FB</td>\n",
       "      <td>Bearish</td>\n",
       "      <td>$FB: this one keeps forging ahead. Bullish sen...</td>\n",
       "      <td>19228259</td>\n",
       "    </tr>\n",
       "  </tbody>\n",
       "</table>\n",
       "<p>291568 rows × 4 columns</p>\n",
       "</div>"
      ],
      "text/plain": [
       "       symbol sentiment                                            message  \\\n",
       "0        AAPL   Bullish  $AAPL ain’t nobody selling. Shorts need to cov...   \n",
       "1        AAPL   Bullish          $QRVO today watch lists $CCIV $AAPL $RBLX   \n",
       "2        AAPL   Bullish  $AAPL could you imagine if we see $133+ by Fri...   \n",
       "3        AAPL   Bullish  $AAPL will revisit mid 126.xx Way too early in...   \n",
       "4        AAPL   Bullish                      $AAPL   Bears are cocksuckers   \n",
       "...       ...       ...                                                ...   \n",
       "291563     FB   Bullish                $FB I&#39;m excited about next week   \n",
       "291564     FB   Bullish             @flavisam_letstradeshares Agree re $fb   \n",
       "291565     FB   Bullish   $FB looking to test the 52w high at 58.96 (Jan9)   \n",
       "291566     FB   Bullish  Recent sold $BBRY $IRWD $OREX $ACHN $LNKD $ANG...   \n",
       "291567     FB   Bearish  $FB: this one keeps forging ahead. Bullish sen...   \n",
       "\n",
       "        message_id  \n",
       "0        304543565  \n",
       "1        304543491  \n",
       "2        304542855  \n",
       "3        304542796  \n",
       "4        304542546  \n",
       "...            ...  \n",
       "291563    19228876  \n",
       "291564    19228800  \n",
       "291565    19228632  \n",
       "291566    19228264  \n",
       "291567    19228259  \n",
       "\n",
       "[291568 rows x 4 columns]"
      ]
     },
     "execution_count": 59,
     "metadata": {},
     "output_type": "execute_result"
    }
   ],
   "source": [
    "%%time\n",
    "preprocessed_stock = preprocess(unprocessed_stocks, punc=False, lower=False, lemma=False, em_rep=False, num=False, stopw=False, misspell=False)\n",
    "preprocessed_stock\n"
   ]
  },
  {
   "cell_type": "code",
   "execution_count": 60,
   "metadata": {},
   "outputs": [
    {
     "data": {
      "text/html": [
       "<div>\n",
       "<style scoped>\n",
       "    .dataframe tbody tr th:only-of-type {\n",
       "        vertical-align: middle;\n",
       "    }\n",
       "\n",
       "    .dataframe tbody tr th {\n",
       "        vertical-align: top;\n",
       "    }\n",
       "\n",
       "    .dataframe thead th {\n",
       "        text-align: right;\n",
       "    }\n",
       "</style>\n",
       "<table border=\"1\" class=\"dataframe\">\n",
       "  <thead>\n",
       "    <tr style=\"text-align: right;\">\n",
       "      <th></th>\n",
       "      <th>symbol</th>\n",
       "      <th>sentiment</th>\n",
       "      <th>message</th>\n",
       "      <th>message_id</th>\n",
       "    </tr>\n",
       "  </thead>\n",
       "  <tbody>\n",
       "    <tr>\n",
       "      <th>0</th>\n",
       "      <td>BTC.X</td>\n",
       "      <td>Bullish</td>\n",
       "      <td>btcx go go you beautiful bastard</td>\n",
       "      <td>304543745</td>\n",
       "    </tr>\n",
       "    <tr>\n",
       "      <th>1</th>\n",
       "      <td>BTC.X</td>\n",
       "      <td>Bullish</td>\n",
       "      <td>zilx nio ssnlf ethx btcx   httpsthefintechtime...</td>\n",
       "      <td>304543536</td>\n",
       "    </tr>\n",
       "    <tr>\n",
       "      <th>2</th>\n",
       "      <td>BTC.X</td>\n",
       "      <td>Bullish</td>\n",
       "      <td>btcx bitcoin is like real estate in palm beach...</td>\n",
       "      <td>304543059</td>\n",
       "    </tr>\n",
       "    <tr>\n",
       "      <th>3</th>\n",
       "      <td>BTC.X</td>\n",
       "      <td>Bearish</td>\n",
       "      <td>btcx dump city dump dump city</td>\n",
       "      <td>304542929</td>\n",
       "    </tr>\n",
       "    <tr>\n",
       "      <th>4</th>\n",
       "      <td>BTC.X</td>\n",
       "      <td>Bullish</td>\n",
       "      <td>aabb this baby about to riot mara fcel btcx</td>\n",
       "      <td>304542879</td>\n",
       "    </tr>\n",
       "    <tr>\n",
       "      <th>...</th>\n",
       "      <td>...</td>\n",
       "      <td>...</td>\n",
       "      <td>...</td>\n",
       "      <td>...</td>\n",
       "    </tr>\n",
       "    <tr>\n",
       "      <th>597537</th>\n",
       "      <td>FB</td>\n",
       "      <td>Bullish</td>\n",
       "      <td>$FB I&amp;#39;m excited about next week</td>\n",
       "      <td>19228876</td>\n",
       "    </tr>\n",
       "    <tr>\n",
       "      <th>597538</th>\n",
       "      <td>FB</td>\n",
       "      <td>Bullish</td>\n",
       "      <td>@flavisam_letstradeshares Agree re $fb</td>\n",
       "      <td>19228800</td>\n",
       "    </tr>\n",
       "    <tr>\n",
       "      <th>597539</th>\n",
       "      <td>FB</td>\n",
       "      <td>Bullish</td>\n",
       "      <td>$FB looking to test the 52w high at 58.96 (Jan9)</td>\n",
       "      <td>19228632</td>\n",
       "    </tr>\n",
       "    <tr>\n",
       "      <th>597540</th>\n",
       "      <td>FB</td>\n",
       "      <td>Bullish</td>\n",
       "      <td>Recent sold $BBRY $IRWD $OREX $ACHN $LNKD $ANG...</td>\n",
       "      <td>19228264</td>\n",
       "    </tr>\n",
       "    <tr>\n",
       "      <th>597541</th>\n",
       "      <td>FB</td>\n",
       "      <td>Bearish</td>\n",
       "      <td>$FB: this one keeps forging ahead. Bullish sen...</td>\n",
       "      <td>19228259</td>\n",
       "    </tr>\n",
       "  </tbody>\n",
       "</table>\n",
       "<p>597542 rows × 4 columns</p>\n",
       "</div>"
      ],
      "text/plain": [
       "       symbol sentiment                                            message  \\\n",
       "0       BTC.X   Bullish                   btcx go go you beautiful bastard   \n",
       "1       BTC.X   Bullish  zilx nio ssnlf ethx btcx   httpsthefintechtime...   \n",
       "2       BTC.X   Bullish  btcx bitcoin is like real estate in palm beach...   \n",
       "3       BTC.X   Bearish                      btcx dump city dump dump city   \n",
       "4       BTC.X   Bullish        aabb this baby about to riot mara fcel btcx   \n",
       "...       ...       ...                                                ...   \n",
       "597537     FB   Bullish                $FB I&#39;m excited about next week   \n",
       "597538     FB   Bullish             @flavisam_letstradeshares Agree re $fb   \n",
       "597539     FB   Bullish   $FB looking to test the 52w high at 58.96 (Jan9)   \n",
       "597540     FB   Bullish  Recent sold $BBRY $IRWD $OREX $ACHN $LNKD $ANG...   \n",
       "597541     FB   Bearish  $FB: this one keeps forging ahead. Bullish sen...   \n",
       "\n",
       "        message_id  \n",
       "0        304543745  \n",
       "1        304543536  \n",
       "2        304543059  \n",
       "3        304542929  \n",
       "4        304542879  \n",
       "...            ...  \n",
       "597537    19228876  \n",
       "597538    19228800  \n",
       "597539    19228632  \n",
       "597540    19228264  \n",
       "597541    19228259  \n",
       "\n",
       "[597542 rows x 4 columns]"
      ]
     },
     "execution_count": 60,
     "metadata": {},
     "output_type": "execute_result"
    }
   ],
   "source": [
    "all_processed = pd.concat([preprocessed_crypto, preprocessed_stock], ignore_index=True)\n",
    "all_processed"
   ]
  },
  {
   "cell_type": "code",
   "execution_count": 61,
   "metadata": {},
   "outputs": [
    {
     "data": {
      "text/plain": [
       "Bullish    494034\n",
       "Bearish    103508\n",
       "Name: sentiment, dtype: int64"
      ]
     },
     "execution_count": 61,
     "metadata": {},
     "output_type": "execute_result"
    }
   ],
   "source": [
    "all_processed['sentiment'].value_counts()"
   ]
  },
  {
   "cell_type": "code",
   "execution_count": 62,
   "metadata": {},
   "outputs": [
    {
     "name": "stdout",
     "output_type": "stream",
     "text": [
      "Bullish    103508\n",
      "Bearish    103508\n",
      "Name: sentiment, dtype: int64\n"
     ]
    }
   ],
   "source": [
    "balanced_processed = all_processed.groupby('sentiment').apply(lambda x:x.sample(103508)).reset_index(drop=True)\n",
    "print(balanced_processed['sentiment'].value_counts())\n"
   ]
  },
  {
   "cell_type": "code",
   "execution_count": 63,
   "metadata": {},
   "outputs": [],
   "source": [
    "X_train, X_test, y_train, y_test = train_test_split(balanced_processed['message'], balanced_processed['sentiment'], test_size=0.3, random_state=500, stratify=balanced_processed['sentiment'])\n",
    "\n"
   ]
  },
  {
   "cell_type": "code",
   "execution_count": 64,
   "metadata": {},
   "outputs": [
    {
     "name": "stdout",
     "output_type": "stream",
     "text": [
      "CPU times: user 6.63 s, sys: 113 ms, total: 6.74 s\n",
      "Wall time: 6.76 s\n"
     ]
    }
   ],
   "source": [
    "%%time\n",
    "Tfidf_vect = TfidfVectorizer()\n",
    "Tfidf_vect.fit(X_train)\n",
    "Train_X_Tfidf = Tfidf_vect.transform(X_train)\n",
    "Test_X_Tfidf = Tfidf_vect.transform(X_test)"
   ]
  },
  {
   "cell_type": "markdown",
   "metadata": {},
   "source": [
    "# Naive Bayes"
   ]
  },
  {
   "cell_type": "code",
   "execution_count": 65,
   "metadata": {},
   "outputs": [
    {
     "name": "stdout",
     "output_type": "stream",
     "text": [
      "MNB Accuracy Score->  76.8134610739876\n",
      "CPU times: user 1.23 s, sys: 11.9 ms, total: 1.24 s\n",
      "Wall time: 1.25 s\n"
     ]
    },
    {
     "data": {
      "text/plain": [
       "<sklearn.metrics._plot.confusion_matrix.ConfusionMatrixDisplay at 0x11f92ae50>"
      ]
     },
     "execution_count": 65,
     "metadata": {},
     "output_type": "execute_result"
    },
    {
     "data": {
      "image/png": "[encoded data removed]",
      "text/plain": [
       "<Figure size 432x288 with 2 Axes>"
      ]
     },
     "metadata": {
      "needs_background": "light"
     },
     "output_type": "display_data"
    }
   ],
   "source": [
    "%%time\n",
    "MNB = MultinomialNB()\n",
    "MNB.fit(Train_X_Tfidf,y_train)\n",
    "predictions_MNB = MNB.predict(Test_X_Tfidf)\n",
    "# Use accuracy_score function to get the accuracy\n",
    "print(\"MNB Accuracy Score-> \",accuracy_score(predictions_MNB, y_test)*100)\n",
    "plot_confusion_matrix(MNB, Test_X_Tfidf, y_test)  "
   ]
  },
  {
   "cell_type": "markdown",
   "metadata": {},
   "source": [
    "# SVC"
   ]
  },
  {
   "cell_type": "code",
   "execution_count": null,
   "metadata": {},
   "outputs": [],
   "source": [
    "# %%time\n",
    "# # Classifier - Algorithm - SVM\n",
    "# # fit the training dataset on the classifier\n",
    "# SVM = svm.SVC()\n",
    "# SVM.fit(Train_X_Tfidf,y_train)\n",
    "# predictions_SVM = SVM.predict(Test_X_Tfidf)\n",
    "# # Use accuracy_score function to get the accuracy\n",
    "# print(\"SVM Accuracy Score-> \",accuracy_score(predictions_SVM, y_test)*100)"
   ]
  },
  {
   "cell_type": "markdown",
   "metadata": {},
   "source": [
    "# Logistic Regression"
   ]
  },
  {
   "cell_type": "markdown",
   "metadata": {},
   "source": [
    "# XGBoost"
   ]
  },
  {
   "cell_type": "markdown",
   "metadata": {},
   "source": [
    "# Fast Textt"
   ]
  },
  {
   "cell_type": "code",
   "execution_count": null,
   "metadata": {},
   "outputs": [],
   "source": []
  }
 ],
 "metadata": {
  "kernelspec": {
   "display_name": "Python 3",
   "language": "python",
   "name": "python3"
  },
  "language_info": {
   "codemirror_mode": {
    "name": "ipython",
    "version": 3
   },
   "file_extension": ".py",
   "mimetype": "text/x-python",
   "name": "python",
   "nbconvert_exporter": "python",
   "pygments_lexer": "ipython3",
   "version": "3.8.5"
  }
 },
 "nbformat": 4,
 "nbformat_minor": 4
}
