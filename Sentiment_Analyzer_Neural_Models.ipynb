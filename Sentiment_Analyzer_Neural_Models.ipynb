{
  "nbformat": 4,
  "nbformat_minor": 0,
  "metadata": {
    "colab": {
      "name": "Sentiment Analyzer-Neural Models.ipynb",
      "provenance": [],
      "collapsed_sections": []
    },
    "kernelspec": {
      "display_name": "Python 3",
      "language": "python",
      "name": "python3"
    },
    "language_info": {
      "codemirror_mode": {
        "name": "ipython",
        "version": 3
      },
      "file_extension": ".py",
      "mimetype": "text/x-python",
      "name": "python",
      "nbconvert_exporter": "python",
      "pygments_lexer": "ipython3",
      "version": "3.8.5"
    }
  },
  "cells": [
    {
      "cell_type": "code",
      "metadata": {
        "colab": {
          "base_uri": "https://localhost:8080/"
        },
        "id": "urbBxscmH0gZ",
        "outputId": "5956c887-85fa-471d-fc77-478144693ed4"
      },
      "source": [
        "pip install emoji"
      ],
      "execution_count": null,
      "outputs": [
        {
          "output_type": "stream",
          "text": [
            "Collecting emoji\n",
            "\u001b[?25l  Downloading https://files.pythonhosted.org/packages/24/fa/b3368f41b95a286f8d300e323449ab4e86b85334c2e0b477e94422b8ed0f/emoji-1.2.0-py3-none-any.whl (131kB)\n",
            "\r\u001b[K     |██▌                             | 10kB 15.2MB/s eta 0:00:01\r\u001b[K     |█████                           | 20kB 19.2MB/s eta 0:00:01\r\u001b[K     |███████▌                        | 30kB 15.1MB/s eta 0:00:01\r\u001b[K     |██████████                      | 40kB 11.3MB/s eta 0:00:01\r\u001b[K     |████████████▌                   | 51kB 5.8MB/s eta 0:00:01\r\u001b[K     |███████████████                 | 61kB 6.4MB/s eta 0:00:01\r\u001b[K     |█████████████████▌              | 71kB 6.2MB/s eta 0:00:01\r\u001b[K     |████████████████████            | 81kB 6.2MB/s eta 0:00:01\r\u001b[K     |██████████████████████▌         | 92kB 6.6MB/s eta 0:00:01\r\u001b[K     |█████████████████████████       | 102kB 6.8MB/s eta 0:00:01\r\u001b[K     |███████████████████████████▌    | 112kB 6.8MB/s eta 0:00:01\r\u001b[K     |██████████████████████████████  | 122kB 6.8MB/s eta 0:00:01\r\u001b[K     |████████████████████████████████| 133kB 6.8MB/s \n",
            "\u001b[?25hInstalling collected packages: emoji\n",
            "Successfully installed emoji-1.2.0\n"
          ],
          "name": "stdout"
        }
      ]
    },
    {
      "cell_type": "code",
      "metadata": {
        "colab": {
          "base_uri": "https://localhost:8080/"
        },
        "id": "0on0b8QOIG8Z",
        "outputId": "6ecc6abc-5c7e-4ec4-d1f8-4855c66be6d5"
      },
      "source": [
        "from google.colab import drive\n",
        "drive.mount('/content/drive')"
      ],
      "execution_count": null,
      "outputs": [
        {
          "output_type": "stream",
          "text": [
            "Mounted at /content/drive\n"
          ],
          "name": "stdout"
        }
      ]
    },
    {
      "cell_type": "code",
      "metadata": {
        "colab": {
          "base_uri": "https://localhost:8080/"
        },
        "id": "3iSgSkWCec5u",
        "outputId": "a5eb919f-737b-4fe7-c301-c403f98cf39b"
      },
      "source": [
        "%cd /content/drive/MyDrive/IFT6010/Projet\n",
        "!ls "
      ],
      "execution_count": null,
      "outputs": [
        {
          "output_type": "stream",
          "text": [
            "/content/drive/MyDrive/IFT6010/Projet\n",
            " crypto_db.csv\t    __pycache__\t\t\t\t      stock_db.csv\n",
            " preprocessing.py  'Sentiment Analyzer-Neural Models.ipynb'\n"
          ],
          "name": "stdout"
        }
      ]
    },
    {
      "cell_type": "code",
      "metadata": {
        "id": "ditbjL83Hr-T"
      },
      "source": [
        "import numpy as np\n",
        "import pandas as pd\n",
        "pd.options.mode.chained_assignment = None\n",
        "import seaborn as sns\n",
        "import re\n",
        "import emoji\n",
        "import time\n",
        "import sklearn\n",
        "from sklearn.model_selection import train_test_split\n",
        "from sklearn import model_selection, naive_bayes, svm\n",
        "from sklearn.linear_model import LogisticRegression, LogisticRegressionCV\n",
        "from sklearn.neighbors import KNeighborsClassifier\n",
        "from sklearn.metrics import accuracy_score, confusion_matrix, plot_confusion_matrix\n",
        "from sklearn import utils\n",
        "from sklearn.feature_extraction.text import TfidfVectorizer, CountVectorizer\n",
        "from sklearn.naive_bayes import MultinomialNB\n",
        "from nltk.tokenize import ToktokTokenizer\n",
        "np.random.seed(500) "
      ],
      "execution_count": null,
      "outputs": []
    },
    {
      "cell_type": "markdown",
      "metadata": {
        "id": "8MgAZSSLHr-b"
      },
      "source": [
        "# Importing data "
      ]
    },
    {
      "cell_type": "code",
      "metadata": {
        "colab": {
          "base_uri": "https://localhost:8080/",
          "height": 411
        },
        "id": "9l4Nw7CQHr-c",
        "outputId": "c7e1271c-59c7-44c1-e716-a449f7403ba7"
      },
      "source": [
        "unprocessed_stocks = pd.read_csv(\"./stock_db.csv\")\n",
        "unprocessed_crypto = pd.read_csv(\"./crypto_db.csv\")\n",
        "unprocessed_stocks"
      ],
      "execution_count": null,
      "outputs": [
        {
          "output_type": "execute_result",
          "data": {
            "text/html": [
              "<div>\n",
              "<style scoped>\n",
              "    .dataframe tbody tr th:only-of-type {\n",
              "        vertical-align: middle;\n",
              "    }\n",
              "\n",
              "    .dataframe tbody tr th {\n",
              "        vertical-align: top;\n",
              "    }\n",
              "\n",
              "    .dataframe thead th {\n",
              "        text-align: right;\n",
              "    }\n",
              "</style>\n",
              "<table border=\"1\" class=\"dataframe\">\n",
              "  <thead>\n",
              "    <tr style=\"text-align: right;\">\n",
              "      <th></th>\n",
              "      <th>symbol</th>\n",
              "      <th>sentiment</th>\n",
              "      <th>message</th>\n",
              "      <th>message_id</th>\n",
              "    </tr>\n",
              "  </thead>\n",
              "  <tbody>\n",
              "    <tr>\n",
              "      <th>0</th>\n",
              "      <td>AAPL</td>\n",
              "      <td>Bullish</td>\n",
              "      <td>$AAPL ain’t nobody selling. Shorts need to cov...</td>\n",
              "      <td>304543565</td>\n",
              "    </tr>\n",
              "    <tr>\n",
              "      <th>1</th>\n",
              "      <td>AAPL</td>\n",
              "      <td>Bullish</td>\n",
              "      <td>$QRVO today watch lists $CCIV $AAPL $RBLX</td>\n",
              "      <td>304543491</td>\n",
              "    </tr>\n",
              "    <tr>\n",
              "      <th>2</th>\n",
              "      <td>AAPL</td>\n",
              "      <td>Bullish</td>\n",
              "      <td>$AAPL could you imagine if we see $133+ by Fri...</td>\n",
              "      <td>304542855</td>\n",
              "    </tr>\n",
              "    <tr>\n",
              "      <th>3</th>\n",
              "      <td>AAPL</td>\n",
              "      <td>Bullish</td>\n",
              "      <td>$AAPL will revisit mid 126.xx\\nWay too early i...</td>\n",
              "      <td>304542796</td>\n",
              "    </tr>\n",
              "    <tr>\n",
              "      <th>4</th>\n",
              "      <td>AAPL</td>\n",
              "      <td>Bullish</td>\n",
              "      <td>$AAPL \\n\\nBears are cocksuckers</td>\n",
              "      <td>304542546</td>\n",
              "    </tr>\n",
              "    <tr>\n",
              "      <th>...</th>\n",
              "      <td>...</td>\n",
              "      <td>...</td>\n",
              "      <td>...</td>\n",
              "      <td>...</td>\n",
              "    </tr>\n",
              "    <tr>\n",
              "      <th>291563</th>\n",
              "      <td>FB</td>\n",
              "      <td>Bullish</td>\n",
              "      <td>$FB I&amp;#39;m excited about next week</td>\n",
              "      <td>19228876</td>\n",
              "    </tr>\n",
              "    <tr>\n",
              "      <th>291564</th>\n",
              "      <td>FB</td>\n",
              "      <td>Bullish</td>\n",
              "      <td>@flavisam_letstradeshares Agree re $fb</td>\n",
              "      <td>19228800</td>\n",
              "    </tr>\n",
              "    <tr>\n",
              "      <th>291565</th>\n",
              "      <td>FB</td>\n",
              "      <td>Bullish</td>\n",
              "      <td>$FB looking to test the 52w high at 58.96 (Jan9)</td>\n",
              "      <td>19228632</td>\n",
              "    </tr>\n",
              "    <tr>\n",
              "      <th>291566</th>\n",
              "      <td>FB</td>\n",
              "      <td>Bullish</td>\n",
              "      <td>Recent sold $BBRY $IRWD $OREX $ACHN $LNKD $ANG...</td>\n",
              "      <td>19228264</td>\n",
              "    </tr>\n",
              "    <tr>\n",
              "      <th>291567</th>\n",
              "      <td>FB</td>\n",
              "      <td>Bearish</td>\n",
              "      <td>$FB: this one keeps forging ahead. Bullish sen...</td>\n",
              "      <td>19228259</td>\n",
              "    </tr>\n",
              "  </tbody>\n",
              "</table>\n",
              "<p>291568 rows × 4 columns</p>\n",
              "</div>"
            ],
            "text/plain": [
              "       symbol  ... message_id\n",
              "0        AAPL  ...  304543565\n",
              "1        AAPL  ...  304543491\n",
              "2        AAPL  ...  304542855\n",
              "3        AAPL  ...  304542796\n",
              "4        AAPL  ...  304542546\n",
              "...       ...  ...        ...\n",
              "291563     FB  ...   19228876\n",
              "291564     FB  ...   19228800\n",
              "291565     FB  ...   19228632\n",
              "291566     FB  ...   19228264\n",
              "291567     FB  ...   19228259\n",
              "\n",
              "[291568 rows x 4 columns]"
            ]
          },
          "metadata": {
            "tags": []
          },
          "execution_count": 5
        }
      ]
    },
    {
      "cell_type": "code",
      "metadata": {
        "colab": {
          "base_uri": "https://localhost:8080/"
        },
        "id": "WiDEYURIHr-d",
        "outputId": "8217ea3d-3ff7-4cbd-8625-523fdf6e1ca8"
      },
      "source": [
        "print(len(unprocessed_stocks))\n",
        "print(len(unprocessed_crypto))"
      ],
      "execution_count": null,
      "outputs": [
        {
          "output_type": "stream",
          "text": [
            "291568\n",
            "305974\n"
          ],
          "name": "stdout"
        }
      ]
    },
    {
      "cell_type": "markdown",
      "metadata": {
        "id": "k6P7yjZTHr-e"
      },
      "source": [
        "# Visualizing the data"
      ]
    },
    {
      "cell_type": "code",
      "metadata": {
        "colab": {
          "base_uri": "https://localhost:8080/",
          "height": 1000
        },
        "id": "VncDTSXcHr-e",
        "outputId": "24061762-3322-447c-81a3-8015087df92a"
      },
      "source": [
        "sns.displot(unprocessed_stocks, x=\"symbol\")\n",
        "sns.displot(unprocessed_crypto, x=\"symbol\")\n",
        "sns.displot(unprocessed_stocks, x=\"sentiment\")\n",
        "sns.displot(unprocessed_crypto, x=\"sentiment\")"
      ],
      "execution_count": null,
      "outputs": [
        {
          "output_type": "execute_result",
          "data": {
            "text/plain": [
              "<seaborn.axisgrid.FacetGrid at 0x7fc6aaa40b50>"
            ]
          },
          "metadata": {
            "tags": []
          },
          "execution_count": 7
        },
        {
          "output_type": "display_data",
          "data": {
            "image/png": "[encoded data removed]",
            "text/plain": [
              "<Figure size 360x360 with 1 Axes>"
            ]
          },
          "metadata": {
            "tags": [],
            "needs_background": "light"
          }
        },
        {
          "output_type": "display_data",
          "data": {
            "image/png": "[encoded data removed]",
            "text/plain": [
              "<Figure size 360x360 with 1 Axes>"
            ]
          },
          "metadata": {
            "tags": [],
            "needs_background": "light"
          }
        },
        {
          "output_type": "display_data",
          "data": {
            "image/png": "[encoded data removed]",
            "text/plain": [
              "<Figure size 360x360 with 1 Axes>"
            ]
          },
          "metadata": {
            "tags": [],
            "needs_background": "light"
          }
        },
        {
          "output_type": "display_data",
          "data": {
            "image/png": "[encoded data removed]",
            "text/plain": [
              "<Figure size 360x360 with 1 Axes>"
            ]
          },
          "metadata": {
            "tags": [],
            "needs_background": "light"
          }
        }
      ]
    },
    {
      "cell_type": "markdown",
      "metadata": {
        "id": "3tjyz-rJHr-e"
      },
      "source": [
        "# Preprocessing\n",
        "Here we define our preprocess function, one needs to specify which preprocessing functions he wants to be applied to the data messages\n",
        "\n"
      ]
    },
    {
      "cell_type": "code",
      "metadata": {
        "colab": {
          "base_uri": "https://localhost:8080/"
        },
        "id": "F_BLyK7THr-f",
        "outputId": "1e5a4670-9ca8-46a3-9769-94acc73c2b9a"
      },
      "source": [
        "from preprocessing import preprocess"
      ],
      "execution_count": null,
      "outputs": [
        {
          "output_type": "stream",
          "text": [
            "[nltk_data] Downloading package words to /root/nltk_data...\n",
            "[nltk_data]   Unzipping corpora/words.zip.\n",
            "[nltk_data] Downloading package wordnet to /root/nltk_data...\n",
            "[nltk_data]   Unzipping corpora/wordnet.zip.\n"
          ],
          "name": "stdout"
        }
      ]
    },
    {
      "cell_type": "code",
      "metadata": {
        "colab": {
          "base_uri": "https://localhost:8080/",
          "height": 411
        },
        "id": "uziFdly4Hr-f",
        "outputId": "d8dfeb3e-7e5e-4d20-de70-4669f2f8531c"
      },
      "source": [
        "all_processed = pd.concat([unprocessed_crypto, unprocessed_stocks], ignore_index=True)\n",
        "all_processed"
      ],
      "execution_count": null,
      "outputs": [
        {
          "output_type": "execute_result",
          "data": {
            "text/html": [
              "<div>\n",
              "<style scoped>\n",
              "    .dataframe tbody tr th:only-of-type {\n",
              "        vertical-align: middle;\n",
              "    }\n",
              "\n",
              "    .dataframe tbody tr th {\n",
              "        vertical-align: top;\n",
              "    }\n",
              "\n",
              "    .dataframe thead th {\n",
              "        text-align: right;\n",
              "    }\n",
              "</style>\n",
              "<table border=\"1\" class=\"dataframe\">\n",
              "  <thead>\n",
              "    <tr style=\"text-align: right;\">\n",
              "      <th></th>\n",
              "      <th>symbol</th>\n",
              "      <th>sentiment</th>\n",
              "      <th>message</th>\n",
              "      <th>message_id</th>\n",
              "    </tr>\n",
              "  </thead>\n",
              "  <tbody>\n",
              "    <tr>\n",
              "      <th>0</th>\n",
              "      <td>BTC.X</td>\n",
              "      <td>Bullish</td>\n",
              "      <td>$BTC.X go go you beautiful bastard</td>\n",
              "      <td>304543745</td>\n",
              "    </tr>\n",
              "    <tr>\n",
              "      <th>1</th>\n",
              "      <td>BTC.X</td>\n",
              "      <td>Bullish</td>\n",
              "      <td>$ZIL.X $NIO $SSNLF $ETH.X $BTC.X \\n\\nhttps://t...</td>\n",
              "      <td>304543536</td>\n",
              "    </tr>\n",
              "    <tr>\n",
              "      <th>2</th>\n",
              "      <td>BTC.X</td>\n",
              "      <td>Bullish</td>\n",
              "      <td>$BTC.X Bitcoin is like real estate in Palm Bea...</td>\n",
              "      <td>304543059</td>\n",
              "    </tr>\n",
              "    <tr>\n",
              "      <th>3</th>\n",
              "      <td>BTC.X</td>\n",
              "      <td>Bearish</td>\n",
              "      <td>$BTC.X dump city, dump dump city</td>\n",
              "      <td>304542929</td>\n",
              "    </tr>\n",
              "    <tr>\n",
              "      <th>4</th>\n",
              "      <td>BTC.X</td>\n",
              "      <td>Bullish</td>\n",
              "      <td>$AABB this baby about to 🚀🚀🚀$RIOT $MARA $FCEL ...</td>\n",
              "      <td>304542879</td>\n",
              "    </tr>\n",
              "    <tr>\n",
              "      <th>...</th>\n",
              "      <td>...</td>\n",
              "      <td>...</td>\n",
              "      <td>...</td>\n",
              "      <td>...</td>\n",
              "    </tr>\n",
              "    <tr>\n",
              "      <th>597537</th>\n",
              "      <td>FB</td>\n",
              "      <td>Bullish</td>\n",
              "      <td>$FB I&amp;#39;m excited about next week</td>\n",
              "      <td>19228876</td>\n",
              "    </tr>\n",
              "    <tr>\n",
              "      <th>597538</th>\n",
              "      <td>FB</td>\n",
              "      <td>Bullish</td>\n",
              "      <td>@flavisam_letstradeshares Agree re $fb</td>\n",
              "      <td>19228800</td>\n",
              "    </tr>\n",
              "    <tr>\n",
              "      <th>597539</th>\n",
              "      <td>FB</td>\n",
              "      <td>Bullish</td>\n",
              "      <td>$FB looking to test the 52w high at 58.96 (Jan9)</td>\n",
              "      <td>19228632</td>\n",
              "    </tr>\n",
              "    <tr>\n",
              "      <th>597540</th>\n",
              "      <td>FB</td>\n",
              "      <td>Bullish</td>\n",
              "      <td>Recent sold $BBRY $IRWD $OREX $ACHN $LNKD $ANG...</td>\n",
              "      <td>19228264</td>\n",
              "    </tr>\n",
              "    <tr>\n",
              "      <th>597541</th>\n",
              "      <td>FB</td>\n",
              "      <td>Bearish</td>\n",
              "      <td>$FB: this one keeps forging ahead. Bullish sen...</td>\n",
              "      <td>19228259</td>\n",
              "    </tr>\n",
              "  </tbody>\n",
              "</table>\n",
              "<p>597542 rows × 4 columns</p>\n",
              "</div>"
            ],
            "text/plain": [
              "       symbol  ... message_id\n",
              "0       BTC.X  ...  304543745\n",
              "1       BTC.X  ...  304543536\n",
              "2       BTC.X  ...  304543059\n",
              "3       BTC.X  ...  304542929\n",
              "4       BTC.X  ...  304542879\n",
              "...       ...  ...        ...\n",
              "597537     FB  ...   19228876\n",
              "597538     FB  ...   19228800\n",
              "597539     FB  ...   19228632\n",
              "597540     FB  ...   19228264\n",
              "597541     FB  ...   19228259\n",
              "\n",
              "[597542 rows x 4 columns]"
            ]
          },
          "metadata": {
            "tags": []
          },
          "execution_count": 9
        }
      ]
    },
    {
      "cell_type": "code",
      "metadata": {
        "colab": {
          "base_uri": "https://localhost:8080/"
        },
        "id": "f85iaX43Hr-g",
        "outputId": "457a8f5d-0584-490b-910f-6676f0189680"
      },
      "source": [
        "%%time\n",
        "all_processed = preprocess(all_processed, punc=False, lower=True, lemma=False, em_rep=True, num=False, stopw=False, misspell=False)\n",
        "all_processed\n"
      ],
      "execution_count": null,
      "outputs": [
        {
          "output_type": "stream",
          "text": [
            "CPU times: user 3min 48s, sys: 880 ms, total: 3min 49s\n",
            "Wall time: 3min 49s\n"
          ],
          "name": "stdout"
        }
      ]
    },
    {
      "cell_type": "code",
      "metadata": {
        "colab": {
          "base_uri": "https://localhost:8080/"
        },
        "id": "yRsTu0WIHr-g",
        "outputId": "7e014927-595a-4036-c3fc-a87927b3eb44"
      },
      "source": [
        "all_processed['sentiment'].value_counts()"
      ],
      "execution_count": null,
      "outputs": [
        {
          "output_type": "execute_result",
          "data": {
            "text/plain": [
              "Bullish    494034\n",
              "Bearish    103508\n",
              "Name: sentiment, dtype: int64"
            ]
          },
          "metadata": {
            "tags": []
          },
          "execution_count": 15
        }
      ]
    },
    {
      "cell_type": "code",
      "metadata": {
        "colab": {
          "base_uri": "https://localhost:8080/"
        },
        "id": "CUZ2oH0MHr-h",
        "outputId": "e329b00c-70d8-4123-ebde-8569c0454623"
      },
      "source": [
        "balanced_processed = all_processed.groupby('sentiment').apply(lambda x:x.sample(103508)).reset_index(drop=True)\n",
        "print(balanced_processed['sentiment'].value_counts())\n"
      ],
      "execution_count": null,
      "outputs": [
        {
          "output_type": "stream",
          "text": [
            "Bearish    103508\n",
            "Bullish    103508\n",
            "Name: sentiment, dtype: int64\n"
          ],
          "name": "stdout"
        }
      ]
    },
    {
      "cell_type": "code",
      "metadata": {
        "id": "h5JEt5Rti4Yt"
      },
      "source": [
        "X_train, X_test= train_test_split(balanced_processed, test_size=0.3, random_state=500, stratify=balanced_processed['sentiment'])\n",
        "\n"
      ],
      "execution_count": null,
      "outputs": []
    },
    {
      "cell_type": "code",
      "metadata": {
        "colab": {
          "base_uri": "https://localhost:8080/",
          "height": 411
        },
        "id": "Gof9NZKKjBtM",
        "outputId": "887fb20e-086f-47cc-9714-1ad4c58c3707"
      },
      "source": [
        "X_train"
      ],
      "execution_count": null,
      "outputs": [
        {
          "output_type": "execute_result",
          "data": {
            "text/html": [
              "<div>\n",
              "<style scoped>\n",
              "    .dataframe tbody tr th:only-of-type {\n",
              "        vertical-align: middle;\n",
              "    }\n",
              "\n",
              "    .dataframe tbody tr th {\n",
              "        vertical-align: top;\n",
              "    }\n",
              "\n",
              "    .dataframe thead th {\n",
              "        text-align: right;\n",
              "    }\n",
              "</style>\n",
              "<table border=\"1\" class=\"dataframe\">\n",
              "  <thead>\n",
              "    <tr style=\"text-align: right;\">\n",
              "      <th></th>\n",
              "      <th>symbol</th>\n",
              "      <th>sentiment</th>\n",
              "      <th>message</th>\n",
              "      <th>message_id</th>\n",
              "    </tr>\n",
              "  </thead>\n",
              "  <tbody>\n",
              "    <tr>\n",
              "      <th>108597</th>\n",
              "      <td>LTC.X</td>\n",
              "      <td>Bullish</td>\n",
              "      <td>$ltc.x :rolling_on_the_floor_laughing: :rollin...</td>\n",
              "      <td>113751257</td>\n",
              "    </tr>\n",
              "    <tr>\n",
              "      <th>19325</th>\n",
              "      <td>AAPL</td>\n",
              "      <td>Bearish</td>\n",
              "      <td>$aapl i can’t believe i am saying this but aap...</td>\n",
              "      <td>283941970</td>\n",
              "    </tr>\n",
              "    <tr>\n",
              "      <th>107270</th>\n",
              "      <td>FB</td>\n",
              "      <td>Bullish</td>\n",
              "      <td>$tsla we are coming for $fb market cap and ove...</td>\n",
              "      <td>270163366</td>\n",
              "    </tr>\n",
              "    <tr>\n",
              "      <th>39765</th>\n",
              "      <td>XRP.X</td>\n",
              "      <td>Bearish</td>\n",
              "      <td>$xrp.x is in parabolic sar breakdown winning 6...</td>\n",
              "      <td>136086131</td>\n",
              "    </tr>\n",
              "    <tr>\n",
              "      <th>151350</th>\n",
              "      <td>AMZN</td>\n",
              "      <td>Bullish</td>\n",
              "      <td>$amzn i see this running up into prime day</td>\n",
              "      <td>246787120</td>\n",
              "    </tr>\n",
              "    <tr>\n",
              "      <th>...</th>\n",
              "      <td>...</td>\n",
              "      <td>...</td>\n",
              "      <td>...</td>\n",
              "      <td>...</td>\n",
              "    </tr>\n",
              "    <tr>\n",
              "      <th>41690</th>\n",
              "      <td>AAPL</td>\n",
              "      <td>Bearish</td>\n",
              "      <td>$aapl lol gamestop ! worth more than this pos ...</td>\n",
              "      <td>279087026</td>\n",
              "    </tr>\n",
              "    <tr>\n",
              "      <th>24281</th>\n",
              "      <td>GOOGL</td>\n",
              "      <td>Bearish</td>\n",
              "      <td>$aapl $amzn $nflx $fb $googl no matter how exp...</td>\n",
              "      <td>148420719</td>\n",
              "    </tr>\n",
              "    <tr>\n",
              "      <th>196889</th>\n",
              "      <td>AMZN</td>\n",
              "      <td>Bullish</td>\n",
              "      <td>$amzn amazon to $3,300</td>\n",
              "      <td>232510511</td>\n",
              "    </tr>\n",
              "    <tr>\n",
              "      <th>169931</th>\n",
              "      <td>BTC.X</td>\n",
              "      <td>Bullish</td>\n",
              "      <td>$btc.x who bought dip? meeeeeeeeee!</td>\n",
              "      <td>126605568</td>\n",
              "    </tr>\n",
              "    <tr>\n",
              "      <th>183859</th>\n",
              "      <td>XRP.X</td>\n",
              "      <td>Bullish</td>\n",
              "      <td>$xrp.x i got suspended and this coin crashed r...</td>\n",
              "      <td>281749944</td>\n",
              "    </tr>\n",
              "  </tbody>\n",
              "</table>\n",
              "<p>144911 rows × 4 columns</p>\n",
              "</div>"
            ],
            "text/plain": [
              "       symbol  ... message_id\n",
              "108597  LTC.X  ...  113751257\n",
              "19325    AAPL  ...  283941970\n",
              "107270     FB  ...  270163366\n",
              "39765   XRP.X  ...  136086131\n",
              "151350   AMZN  ...  246787120\n",
              "...       ...  ...        ...\n",
              "41690    AAPL  ...  279087026\n",
              "24281   GOOGL  ...  148420719\n",
              "196889   AMZN  ...  232510511\n",
              "169931  BTC.X  ...  126605568\n",
              "183859  XRP.X  ...  281749944\n",
              "\n",
              "[144911 rows x 4 columns]"
            ]
          },
          "metadata": {
            "tags": []
          },
          "execution_count": 18
        }
      ]
    },
    {
      "cell_type": "markdown",
      "metadata": {
        "id": "fMZAS6fkHr-i"
      },
      "source": [
        "# Word2Vec"
      ]
    },
    {
      "cell_type": "code",
      "metadata": {
        "colab": {
          "base_uri": "https://localhost:8080/",
          "height": 411
        },
        "id": "fIzbrc1P0RVQ",
        "outputId": "a75d7fb0-b4d1-420b-c2b0-c347a55a37f3"
      },
      "source": [
        "tok = ToktokTokenizer()\n",
        "X_train['tokenized'] = X_train['message'].apply(tok.tokenize)\n",
        "X_test['tokenized'] = X_test['message'].apply(tok.tokenize)\n",
        "X_train"
      ],
      "execution_count": null,
      "outputs": [
        {
          "output_type": "execute_result",
          "data": {
            "text/html": [
              "<div>\n",
              "<style scoped>\n",
              "    .dataframe tbody tr th:only-of-type {\n",
              "        vertical-align: middle;\n",
              "    }\n",
              "\n",
              "    .dataframe tbody tr th {\n",
              "        vertical-align: top;\n",
              "    }\n",
              "\n",
              "    .dataframe thead th {\n",
              "        text-align: right;\n",
              "    }\n",
              "</style>\n",
              "<table border=\"1\" class=\"dataframe\">\n",
              "  <thead>\n",
              "    <tr style=\"text-align: right;\">\n",
              "      <th></th>\n",
              "      <th>symbol</th>\n",
              "      <th>sentiment</th>\n",
              "      <th>message</th>\n",
              "      <th>message_id</th>\n",
              "      <th>tokenized</th>\n",
              "    </tr>\n",
              "  </thead>\n",
              "  <tbody>\n",
              "    <tr>\n",
              "      <th>108597</th>\n",
              "      <td>LTC.X</td>\n",
              "      <td>Bullish</td>\n",
              "      <td>$ltc.x :rolling_on_the_floor_laughing: :rollin...</td>\n",
              "      <td>113751257</td>\n",
              "      <td>[$, ltc.x, :, rolling_on_the_floor_laughing, :...</td>\n",
              "    </tr>\n",
              "    <tr>\n",
              "      <th>19325</th>\n",
              "      <td>AAPL</td>\n",
              "      <td>Bearish</td>\n",
              "      <td>$aapl i can’t believe i am saying this but aap...</td>\n",
              "      <td>283941970</td>\n",
              "      <td>[$, aapl, i, can, ’, t, believe, i, am, saying...</td>\n",
              "    </tr>\n",
              "    <tr>\n",
              "      <th>107270</th>\n",
              "      <td>FB</td>\n",
              "      <td>Bullish</td>\n",
              "      <td>$tsla we are coming for $fb market cap and ove...</td>\n",
              "      <td>270163366</td>\n",
              "      <td>[$, tsla, we, are, coming, for, $, fb, market,...</td>\n",
              "    </tr>\n",
              "    <tr>\n",
              "      <th>39765</th>\n",
              "      <td>XRP.X</td>\n",
              "      <td>Bearish</td>\n",
              "      <td>$xrp.x is in parabolic sar breakdown winning 6...</td>\n",
              "      <td>136086131</td>\n",
              "      <td>[$, xrp.x, is, in, parabolic, sar, breakdown, ...</td>\n",
              "    </tr>\n",
              "    <tr>\n",
              "      <th>151350</th>\n",
              "      <td>AMZN</td>\n",
              "      <td>Bullish</td>\n",
              "      <td>$amzn i see this running up into prime day</td>\n",
              "      <td>246787120</td>\n",
              "      <td>[$, amzn, i, see, this, running, up, into, pri...</td>\n",
              "    </tr>\n",
              "    <tr>\n",
              "      <th>...</th>\n",
              "      <td>...</td>\n",
              "      <td>...</td>\n",
              "      <td>...</td>\n",
              "      <td>...</td>\n",
              "      <td>...</td>\n",
              "    </tr>\n",
              "    <tr>\n",
              "      <th>41690</th>\n",
              "      <td>AAPL</td>\n",
              "      <td>Bearish</td>\n",
              "      <td>$aapl lol gamestop ! worth more than this pos ...</td>\n",
              "      <td>279087026</td>\n",
              "      <td>[$, aapl, lol, gamestop, !, worth, more, than,...</td>\n",
              "    </tr>\n",
              "    <tr>\n",
              "      <th>24281</th>\n",
              "      <td>GOOGL</td>\n",
              "      <td>Bearish</td>\n",
              "      <td>$aapl $amzn $nflx $fb $googl no matter how exp...</td>\n",
              "      <td>148420719</td>\n",
              "      <td>[$, aapl, $, amzn, $, nflx, $, fb, $, googl, n...</td>\n",
              "    </tr>\n",
              "    <tr>\n",
              "      <th>196889</th>\n",
              "      <td>AMZN</td>\n",
              "      <td>Bullish</td>\n",
              "      <td>$amzn amazon to $3,300</td>\n",
              "      <td>232510511</td>\n",
              "      <td>[$, amzn, amazon, to, $, 3,300]</td>\n",
              "    </tr>\n",
              "    <tr>\n",
              "      <th>169931</th>\n",
              "      <td>BTC.X</td>\n",
              "      <td>Bullish</td>\n",
              "      <td>$btc.x who bought dip? meeeeeeeeee!</td>\n",
              "      <td>126605568</td>\n",
              "      <td>[$, btc.x, who, bought, dip, ?, meeeeeeeeee, !]</td>\n",
              "    </tr>\n",
              "    <tr>\n",
              "      <th>183859</th>\n",
              "      <td>XRP.X</td>\n",
              "      <td>Bullish</td>\n",
              "      <td>$xrp.x i got suspended and this coin crashed r...</td>\n",
              "      <td>281749944</td>\n",
              "      <td>[$, xrp.x, i, got, suspended, and, this, coin,...</td>\n",
              "    </tr>\n",
              "  </tbody>\n",
              "</table>\n",
              "<p>144911 rows × 5 columns</p>\n",
              "</div>"
            ],
            "text/plain": [
              "       symbol  ...                                          tokenized\n",
              "108597  LTC.X  ...  [$, ltc.x, :, rolling_on_the_floor_laughing, :...\n",
              "19325    AAPL  ...  [$, aapl, i, can, ’, t, believe, i, am, saying...\n",
              "107270     FB  ...  [$, tsla, we, are, coming, for, $, fb, market,...\n",
              "39765   XRP.X  ...  [$, xrp.x, is, in, parabolic, sar, breakdown, ...\n",
              "151350   AMZN  ...  [$, amzn, i, see, this, running, up, into, pri...\n",
              "...       ...  ...                                                ...\n",
              "41690    AAPL  ...  [$, aapl, lol, gamestop, !, worth, more, than,...\n",
              "24281   GOOGL  ...  [$, aapl, $, amzn, $, nflx, $, fb, $, googl, n...\n",
              "196889   AMZN  ...                    [$, amzn, amazon, to, $, 3,300]\n",
              "169931  BTC.X  ...    [$, btc.x, who, bought, dip, ?, meeeeeeeeee, !]\n",
              "183859  XRP.X  ...  [$, xrp.x, i, got, suspended, and, this, coin,...\n",
              "\n",
              "[144911 rows x 5 columns]"
            ]
          },
          "metadata": {
            "tags": []
          },
          "execution_count": 19
        }
      ]
    },
    {
      "cell_type": "code",
      "metadata": {
        "id": "JxhFtUQ_1V1n"
      },
      "source": [
        "from gensim.models import Word2Vec"
      ],
      "execution_count": null,
      "outputs": []
    },
    {
      "cell_type": "code",
      "metadata": {
        "colab": {
          "base_uri": "https://localhost:8080/"
        },
        "id": "E_QtK-n41_nm",
        "outputId": "6122a167-dbf1-44da-d0b5-673367cc7d6b"
      },
      "source": [
        "%%time\n",
        "w2v = Word2Vec(sg=1, workers=4)\n",
        "w2v.build_vocab([x for x in X_train[\"tokenized\"]])"
      ],
      "execution_count": null,
      "outputs": [
        {
          "output_type": "stream",
          "text": [
            "CPU times: user 4.95 s, sys: 86 ms, total: 5.04 s\n",
            "Wall time: 5.05 s\n"
          ],
          "name": "stdout"
        }
      ]
    },
    {
      "cell_type": "code",
      "metadata": {
        "colab": {
          "base_uri": "https://localhost:8080/"
        },
        "id": "cVeQP2Fc3ERo",
        "outputId": "62299b48-fe88-4a47-ff92-5095b67da0f1"
      },
      "source": [
        "len(w2v.wv.vocab)"
      ],
      "execution_count": null,
      "outputs": [
        {
          "output_type": "execute_result",
          "data": {
            "text/plain": [
              "17272"
            ]
          },
          "metadata": {
            "tags": []
          },
          "execution_count": 22
        }
      ]
    },
    {
      "cell_type": "code",
      "metadata": {
        "colab": {
          "base_uri": "https://localhost:8080/"
        },
        "id": "tf8N253r3VeR",
        "outputId": "6e1bf3e1-4371-45e2-d244-9d4c710a884e"
      },
      "source": [
        "%%time\n",
        "w2v.train([x for x in X_train[\"tokenized\"]], total_examples=len(X_train), epochs=5)"
      ],
      "execution_count": null,
      "outputs": [
        {
          "output_type": "stream",
          "text": [
            "CPU times: user 1min 39s, sys: 319 ms, total: 1min 40s\n",
            "Wall time: 51.2 s\n"
          ],
          "name": "stdout"
        },
        {
          "output_type": "execute_result",
          "data": {
            "text/plain": [
              "(10462608, 15343035)"
            ]
          },
          "metadata": {
            "tags": []
          },
          "execution_count": 23
        }
      ]
    },
    {
      "cell_type": "code",
      "metadata": {
        "colab": {
          "base_uri": "https://localhost:8080/"
        },
        "id": "0ud2PpFu3dzf",
        "outputId": "5b348d5a-0cde-4c65-991e-30514f08eb28"
      },
      "source": [
        "w2v.wv.__getitem__('facebook')"
      ],
      "execution_count": null,
      "outputs": [
        {
          "output_type": "execute_result",
          "data": {
            "text/plain": [
              "array([-0.32187364, -0.1882805 ,  0.09603991, -0.29279646,  0.6154981 ,\n",
              "        0.08423149,  0.3359511 ,  0.1757769 , -0.03631771,  0.19796956,\n",
              "        0.09968659,  0.12115879, -0.23813893,  0.46198577,  0.52837396,\n",
              "       -0.06331854, -0.24015254, -0.38169113,  0.00247277, -0.10634353,\n",
              "        0.27400902,  0.4248336 , -0.21461779, -0.09068631,  0.02784982,\n",
              "        0.19124264,  0.11380766, -0.7830039 ,  0.27963108,  0.58689415,\n",
              "       -0.1821404 ,  0.00184347,  0.5207437 ,  0.2621123 ,  0.20172295,\n",
              "        0.36648026,  0.38801947,  0.10132634, -0.3238189 , -0.33392218,\n",
              "        0.46476087, -0.22191215, -0.10137808, -0.09058888,  0.5122526 ,\n",
              "       -0.15799142,  0.41600809, -0.25459853, -0.41339085, -0.1896944 ,\n",
              "       -0.15721954, -0.10430812, -0.23219523, -0.10506119, -0.13313413,\n",
              "        0.12626621, -0.540231  , -0.7115581 ,  0.471913  , -0.27300516,\n",
              "        0.19786248, -0.253754  , -0.18796189,  0.02573824,  0.13650057,\n",
              "       -0.21286485, -0.25685835, -0.06110866,  0.43582258, -0.07162476,\n",
              "       -0.04427537,  0.3937921 , -0.45612255,  0.08768235, -0.5713696 ,\n",
              "       -0.3249681 , -0.23355398, -0.511517  , -0.44013506, -0.3755731 ,\n",
              "        0.5338775 , -0.17732804,  0.44050616,  0.18599793, -0.12064797,\n",
              "       -0.04285294, -0.10202292, -0.4978353 , -0.19430183, -1.0396001 ,\n",
              "        0.0726456 ,  0.34120107,  0.05538943,  0.2073487 , -0.1962304 ,\n",
              "        0.33079743,  0.23280695,  0.45537695, -0.02517755,  0.0486549 ],\n",
              "      dtype=float32)"
            ]
          },
          "metadata": {
            "tags": []
          },
          "execution_count": 24
        }
      ]
    },
    {
      "cell_type": "code",
      "metadata": {
        "id": "3BhMOVeq31qm"
      },
      "source": [
        "def get_mean_vector(word2vec_model, words):\n",
        "    # remove out-of-vocabulary words\n",
        "    words = [word for word in words if word in word2vec_model.wv.vocab]\n",
        "    if len(words) >= 1:\n",
        "        return np.mean(word2vec_model.wv.__getitem__(words), axis=0)\n",
        "    else:\n",
        "        return []\n",
        "i = 0\n",
        "mean_vectors = []\n",
        "for blog in X_train['tokenized']:\n",
        "    mean_vectors.append(get_mean_vector(w2v, blog))\n",
        "    i+=1\n",
        "\n",
        "i=0\n",
        "mean_vectors2 = []\n",
        "for blog in X_test['tokenized']:\n",
        "    mean_vectors2.append(get_mean_vector(w2v, blog))\n",
        "    i+=1"
      ],
      "execution_count": null,
      "outputs": []
    },
    {
      "cell_type": "code",
      "metadata": {
        "colab": {
          "base_uri": "https://localhost:8080/"
        },
        "id": "GlTSAkNm750F",
        "outputId": "4a8db3a8-4b6d-4e41-94c0-465a8caa8223"
      },
      "source": [
        "len(mean_vectors)"
      ],
      "execution_count": null,
      "outputs": [
        {
          "output_type": "execute_result",
          "data": {
            "text/plain": [
              "144911"
            ]
          },
          "metadata": {
            "tags": []
          },
          "execution_count": 26
        }
      ]
    },
    {
      "cell_type": "code",
      "metadata": {
        "colab": {
          "base_uri": "https://localhost:8080/",
          "height": 458
        },
        "id": "WwUHj1oI882w",
        "outputId": "5472991d-97d3-4002-f5da-71c18d42ee25"
      },
      "source": [
        "%%time\n",
        "# fit the training dataset on the classifier\n",
        "LR = LogisticRegression()\n",
        "LR.fit(mean_vectors, X_train['sentiment'])\n",
        "# predict the labels on validation dataset\n",
        "predictions_LR = LR.predict(mean_vectors2)\n",
        "# Use accuracy_score function to get the accuracy\n",
        "print(\"LR Accuracy Score Age-> \",accuracy_score(predictions_LR, X_test['sentiment'])*100)\n",
        "plot_confusion_matrix(LR, mean_vectors2, X_test['sentiment'], values_format = '.5g')  "
      ],
      "execution_count": null,
      "outputs": [
        {
          "output_type": "stream",
          "text": [
            "/usr/local/lib/python3.7/dist-packages/sklearn/linear_model/_logistic.py:940: ConvergenceWarning: lbfgs failed to converge (status=1):\n",
            "STOP: TOTAL NO. of ITERATIONS REACHED LIMIT.\n",
            "\n",
            "Increase the number of iterations (max_iter) or scale the data as shown in:\n",
            "    https://scikit-learn.org/stable/modules/preprocessing.html\n",
            "Please also refer to the documentation for alternative solver options:\n",
            "    https://scikit-learn.org/stable/modules/linear_model.html#logistic-regression\n",
            "  extra_warning_msg=_LOGISTIC_SOLVER_CONVERGENCE_MSG)\n"
          ],
          "name": "stderr"
        },
        {
          "output_type": "stream",
          "text": [
            "LR Accuracy Score Age->  72.22284840190001\n",
            "CPU times: user 10 s, sys: 2.47 s, total: 12.5 s\n",
            "Wall time: 6.94 s\n"
          ],
          "name": "stdout"
        },
        {
          "output_type": "display_data",
          "data": {
            "image/png": "[encoded data removed]",
            "text/plain": [
              "<Figure size 432x288 with 2 Axes>"
            ]
          },
          "metadata": {
            "tags": [],
            "needs_background": "light"
          }
        }
      ]
    },
    {
      "cell_type": "code",
      "metadata": {
        "id": "yDgitkTi_Pb3",
        "colab": {
          "base_uri": "https://localhost:8080/",
          "height": 327
        },
        "outputId": "54691062-6eb9-4de3-b0cf-1aab918369a7"
      },
      "source": [
        "%%time\n",
        "# Classifier - Algorithm - SVM\n",
        "# fit the training dataset on the classifier\n",
        "SVM = svm.LinearSVC()\n",
        "SVM.fit(mean_vectors, X_train['sentiment'])\n",
        "predictions_SVM = SVM.predict(mean_vectors2)\n",
        "# Use accuracy_score function to get the accuracy\n",
        "print(\"SVM Accuracy Score-> \",accuracy_score(predictions_SVM, X_test['sentiment'])*100)\n",
        "plot_confusion_matrix(SVM, mean_vectors2, X_test['sentiment'], values_format = '.5g')  "
      ],
      "execution_count": null,
      "outputs": [
        {
          "output_type": "stream",
          "text": [
            "SVM Accuracy Score->  72.21801787295709\n",
            "CPU times: user 35.8 s, sys: 389 ms, total: 36.2 s\n",
            "Wall time: 35.9 s\n"
          ],
          "name": "stdout"
        },
        {
          "output_type": "display_data",
          "data": {
            "image/png": "[encoded data removed]",
            "text/plain": [
              "<Figure size 432x288 with 2 Axes>"
            ]
          },
          "metadata": {
            "tags": [],
            "needs_background": "light"
          }
        }
      ]
    },
    {
      "cell_type": "code",
      "metadata": {
        "id": "oo1DuIMn_glu",
        "colab": {
          "base_uri": "https://localhost:8080/",
          "height": 691
        },
        "outputId": "c83abf3e-d1af-4c14-cba3-eb9d142a6255"
      },
      "source": [
        "%%time\n",
        "KNN = KNeighborsClassifier()\n",
        "KNN.fit(mean_vectors, X_train['sentiment'])\n",
        "predictions_KNN = KNN.predict(mean_vectors2)\n",
        "# Use accuracy_score function to get the accuracy\n",
        "print(\"SVM Accuracy Score-> \",accuracy_score(predictions_KNN, X_test['sentiment'])*100)\n",
        "plot_confusion_matrix(KNN, mean_vectors2, X_test['sentiment'], values_format = '.5g') \n",
        "Metric(predictions_KNN, y_test) "
      ],
      "execution_count": null,
      "outputs": [
        {
          "output_type": "stream",
          "text": [
            "SVM Accuracy Score->  69.67554947266726\n"
          ],
          "name": "stdout"
        },
        {
          "output_type": "error",
          "ename": "NameError",
          "evalue": "ignored",
          "traceback": [
            "\u001b[0;31m---------------------------------------------------------------------------\u001b[0m",
            "\u001b[0;31mNameError\u001b[0m                                 Traceback (most recent call last)",
            "\u001b[0;32m<ipython-input-29-99cf0d7fb728>\u001b[0m in \u001b[0;36m<module>\u001b[0;34m()\u001b[0m\n\u001b[0;32m----> 1\u001b[0;31m \u001b[0mget_ipython\u001b[0m\u001b[0;34m(\u001b[0m\u001b[0;34m)\u001b[0m\u001b[0;34m.\u001b[0m\u001b[0mrun_cell_magic\u001b[0m\u001b[0;34m(\u001b[0m\u001b[0;34m'time'\u001b[0m\u001b[0;34m,\u001b[0m \u001b[0;34m''\u001b[0m\u001b[0;34m,\u001b[0m \u001b[0;34m'KNN = KNeighborsClassifier()\\nKNN.fit(mean_vectors, X_train[\\'sentiment\\'])\\npredictions_KNN = KNN.predict(mean_vectors2)\\n# Use accuracy_score function to get the accuracy\\nprint(\"SVM Accuracy Score-> \",accuracy_score(predictions_KNN, X_test[\\'sentiment\\'])*100)\\nplot_confusion_matrix(KNN, mean_vectors2, X_test[\\'sentiment\\'], values_format = \\'.5g\\') \\nMetric(predictions_KNN, y_test) '\u001b[0m\u001b[0;34m)\u001b[0m\u001b[0;34m\u001b[0m\u001b[0;34m\u001b[0m\u001b[0m\n\u001b[0m",
            "\u001b[0;32m/usr/local/lib/python3.7/dist-packages/IPython/core/interactiveshell.py\u001b[0m in \u001b[0;36mrun_cell_magic\u001b[0;34m(self, magic_name, line, cell)\u001b[0m\n\u001b[1;32m   2115\u001b[0m             \u001b[0mmagic_arg_s\u001b[0m \u001b[0;34m=\u001b[0m \u001b[0mself\u001b[0m\u001b[0;34m.\u001b[0m\u001b[0mvar_expand\u001b[0m\u001b[0;34m(\u001b[0m\u001b[0mline\u001b[0m\u001b[0;34m,\u001b[0m \u001b[0mstack_depth\u001b[0m\u001b[0;34m)\u001b[0m\u001b[0;34m\u001b[0m\u001b[0;34m\u001b[0m\u001b[0m\n\u001b[1;32m   2116\u001b[0m             \u001b[0;32mwith\u001b[0m \u001b[0mself\u001b[0m\u001b[0;34m.\u001b[0m\u001b[0mbuiltin_trap\u001b[0m\u001b[0;34m:\u001b[0m\u001b[0;34m\u001b[0m\u001b[0;34m\u001b[0m\u001b[0m\n\u001b[0;32m-> 2117\u001b[0;31m                 \u001b[0mresult\u001b[0m \u001b[0;34m=\u001b[0m \u001b[0mfn\u001b[0m\u001b[0;34m(\u001b[0m\u001b[0mmagic_arg_s\u001b[0m\u001b[0;34m,\u001b[0m \u001b[0mcell\u001b[0m\u001b[0;34m)\u001b[0m\u001b[0;34m\u001b[0m\u001b[0;34m\u001b[0m\u001b[0m\n\u001b[0m\u001b[1;32m   2118\u001b[0m             \u001b[0;32mreturn\u001b[0m \u001b[0mresult\u001b[0m\u001b[0;34m\u001b[0m\u001b[0;34m\u001b[0m\u001b[0m\n\u001b[1;32m   2119\u001b[0m \u001b[0;34m\u001b[0m\u001b[0m\n",
            "\u001b[0;32m<decorator-gen-53>\u001b[0m in \u001b[0;36mtime\u001b[0;34m(self, line, cell, local_ns)\u001b[0m\n",
            "\u001b[0;32m/usr/local/lib/python3.7/dist-packages/IPython/core/magic.py\u001b[0m in \u001b[0;36m<lambda>\u001b[0;34m(f, *a, **k)\u001b[0m\n\u001b[1;32m    186\u001b[0m     \u001b[0;31m# but it's overkill for just that one bit of state.\u001b[0m\u001b[0;34m\u001b[0m\u001b[0;34m\u001b[0m\u001b[0;34m\u001b[0m\u001b[0m\n\u001b[1;32m    187\u001b[0m     \u001b[0;32mdef\u001b[0m \u001b[0mmagic_deco\u001b[0m\u001b[0;34m(\u001b[0m\u001b[0marg\u001b[0m\u001b[0;34m)\u001b[0m\u001b[0;34m:\u001b[0m\u001b[0;34m\u001b[0m\u001b[0;34m\u001b[0m\u001b[0m\n\u001b[0;32m--> 188\u001b[0;31m         \u001b[0mcall\u001b[0m \u001b[0;34m=\u001b[0m \u001b[0;32mlambda\u001b[0m \u001b[0mf\u001b[0m\u001b[0;34m,\u001b[0m \u001b[0;34m*\u001b[0m\u001b[0ma\u001b[0m\u001b[0;34m,\u001b[0m \u001b[0;34m**\u001b[0m\u001b[0mk\u001b[0m\u001b[0;34m:\u001b[0m \u001b[0mf\u001b[0m\u001b[0;34m(\u001b[0m\u001b[0;34m*\u001b[0m\u001b[0ma\u001b[0m\u001b[0;34m,\u001b[0m \u001b[0;34m**\u001b[0m\u001b[0mk\u001b[0m\u001b[0;34m)\u001b[0m\u001b[0;34m\u001b[0m\u001b[0;34m\u001b[0m\u001b[0m\n\u001b[0m\u001b[1;32m    189\u001b[0m \u001b[0;34m\u001b[0m\u001b[0m\n\u001b[1;32m    190\u001b[0m         \u001b[0;32mif\u001b[0m \u001b[0mcallable\u001b[0m\u001b[0;34m(\u001b[0m\u001b[0marg\u001b[0m\u001b[0;34m)\u001b[0m\u001b[0;34m:\u001b[0m\u001b[0;34m\u001b[0m\u001b[0;34m\u001b[0m\u001b[0m\n",
            "\u001b[0;32m/usr/local/lib/python3.7/dist-packages/IPython/core/magics/execution.py\u001b[0m in \u001b[0;36mtime\u001b[0;34m(self, line, cell, local_ns)\u001b[0m\n\u001b[1;32m   1191\u001b[0m         \u001b[0;32melse\u001b[0m\u001b[0;34m:\u001b[0m\u001b[0;34m\u001b[0m\u001b[0;34m\u001b[0m\u001b[0m\n\u001b[1;32m   1192\u001b[0m             \u001b[0mst\u001b[0m \u001b[0;34m=\u001b[0m \u001b[0mclock2\u001b[0m\u001b[0;34m(\u001b[0m\u001b[0;34m)\u001b[0m\u001b[0;34m\u001b[0m\u001b[0;34m\u001b[0m\u001b[0m\n\u001b[0;32m-> 1193\u001b[0;31m             \u001b[0mexec\u001b[0m\u001b[0;34m(\u001b[0m\u001b[0mcode\u001b[0m\u001b[0;34m,\u001b[0m \u001b[0mglob\u001b[0m\u001b[0;34m,\u001b[0m \u001b[0mlocal_ns\u001b[0m\u001b[0;34m)\u001b[0m\u001b[0;34m\u001b[0m\u001b[0;34m\u001b[0m\u001b[0m\n\u001b[0m\u001b[1;32m   1194\u001b[0m             \u001b[0mend\u001b[0m \u001b[0;34m=\u001b[0m \u001b[0mclock2\u001b[0m\u001b[0;34m(\u001b[0m\u001b[0;34m)\u001b[0m\u001b[0;34m\u001b[0m\u001b[0;34m\u001b[0m\u001b[0m\n\u001b[1;32m   1195\u001b[0m             \u001b[0mout\u001b[0m \u001b[0;34m=\u001b[0m \u001b[0;32mNone\u001b[0m\u001b[0;34m\u001b[0m\u001b[0;34m\u001b[0m\u001b[0m\n",
            "\u001b[0;32m<timed exec>\u001b[0m in \u001b[0;36m<module>\u001b[0;34m()\u001b[0m\n",
            "\u001b[0;31mNameError\u001b[0m: name 'Metric' is not defined"
          ]
        },
        {
          "output_type": "display_data",
          "data": {
            "image/png": "[encoded data removed]",
            "text/plain": [
              "<Figure size 432x288 with 2 Axes>"
            ]
          },
          "metadata": {
            "tags": [],
            "needs_background": "light"
          }
        }
      ]
    },
    {
      "cell_type": "code",
      "metadata": {
        "id": "SRBV2L906xvr",
        "colab": {
          "base_uri": "https://localhost:8080/",
          "height": 327
        },
        "outputId": "2816349a-2713-4d02-c10c-88098a0bdeb1"
      },
      "source": [
        "%%time\n",
        "# Classifier - Algorithm - SVM\n",
        "# fit the training dataset on the classifier\n",
        "SVM = svm.SVC(kernel='linear')\n",
        "SVM.fit(mean_vectors, X_train['sentiment'])\n",
        "predictions_SVM = SVM.predict(mean_vectors2)\n",
        "# Use accuracy_score function to get the accuracy\n",
        "print(\"SVM Accuracy Score-> \",accuracy_score(predictions_SVM, X_test['sentiment'])*100)\n",
        "plot_confusion_matrix(SVM, mean_vectors2, X_test['sentiment'], values_format = '.5g')  "
      ],
      "execution_count": null,
      "outputs": [
        {
          "output_type": "stream",
          "text": [
            "SVM Accuracy Score->  69.3358022703486\n",
            "CPU times: user 4h 1min 55s, sys: 20.4 s, total: 4h 2min 15s\n",
            "Wall time: 4h 1min 28s\n"
          ],
          "name": "stdout"
        },
        {
          "output_type": "display_data",
          "data": {
            "image/png": "[encoded data removed]",
            "text/plain": [
              "<Figure size 432x288 with 2 Axes>"
            ]
          },
          "metadata": {
            "tags": [],
            "needs_background": "light"
          }
        }
      ]
    },
    {
      "cell_type": "code",
      "metadata": {
        "id": "F5T4b7h055Oh"
      },
      "source": [
        ""
      ],
      "execution_count": null,
      "outputs": []
    }
  ]
}