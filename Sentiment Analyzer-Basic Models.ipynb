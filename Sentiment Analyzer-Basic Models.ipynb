{
 "cells": [
  {
   "cell_type": "code",
   "execution_count": 20,
   "metadata": {},
   "outputs": [],
   "source": [
    "import numpy as np\n",
    "import pandas as pd\n",
    "pd.options.mode.chained_assignment = None\n",
    "import seaborn as sns\n",
    "import re\n",
    "import emoji\n",
    "import time\n",
    "import sklearn\n",
    "from sklearn.model_selection import train_test_split\n",
    "from sklearn import model_selection, naive_bayes, svm\n",
    "from sklearn.linear_model import LogisticRegression, LogisticRegressionCV\n",
    "from sklearn.neighbors import KNeighborsClassifier\n",
    "from sklearn.metrics import accuracy_score, confusion_matrix, plot_confusion_matrix\n",
    "from sklearn import utils\n",
    "from sklearn.feature_extraction.text import TfidfVectorizer, CountVectorizer\n",
    "from sklearn.naive_bayes import MultinomialNB\n",
    "from sklearn.metrics import (\n",
    "    roc_auc_score, \n",
    "    accuracy_score, \n",
    "    precision_score, \n",
    "    recall_score, \n",
    "    f1_score, \n",
    "    classification_report\n",
    ")   \n",
    "np.random.seed(500) "
   ]
  },
  {
   "cell_type": "code",
   "execution_count": 21,
   "metadata": {},
   "outputs": [],
   "source": [
    "def Metric(y_true, y_pred):\n",
    "    \"\"\"\n",
    "    compute and show the classification result\n",
    "    \"\"\"\n",
    "    accuracy = accuracy_score(y_true, y_pred)\n",
    "    macro_precision = precision_score(y_true, y_pred, average='macro')\n",
    "    macro_recall = recall_score(y_true, y_pred, average='macro')\n",
    "    weighted_f1 = f1_score(y_true, y_pred, average='macro')\n",
    "    target_names = ['class_0', 'class_1']\n",
    "    report = classification_report(y_true, y_pred, target_names=target_names, digits=3)\n",
    "\n",
    "    print('Accuracy: {:.1%}\\nPrecision: {:.1%}\\nRecall: {:.1%}\\nF1: {:.1%}'.format(accuracy, macro_precision,\n",
    "                                            macro_recall, weighted_f1))\n",
    "    print(\"classification_report:\\n\")\n",
    "    print(report)"
   ]
  },
  {
   "cell_type": "markdown",
   "metadata": {},
   "source": [
    "# Importing data "
   ]
  },
  {
   "cell_type": "code",
   "execution_count": 2,
   "metadata": {},
   "outputs": [
    {
     "data": {
      "text/html": [
       "<div>\n",
       "<style scoped>\n",
       "    .dataframe tbody tr th:only-of-type {\n",
       "        vertical-align: middle;\n",
       "    }\n",
       "\n",
       "    .dataframe tbody tr th {\n",
       "        vertical-align: top;\n",
       "    }\n",
       "\n",
       "    .dataframe thead th {\n",
       "        text-align: right;\n",
       "    }\n",
       "</style>\n",
       "<table border=\"1\" class=\"dataframe\">\n",
       "  <thead>\n",
       "    <tr style=\"text-align: right;\">\n",
       "      <th></th>\n",
       "      <th>symbol</th>\n",
       "      <th>sentiment</th>\n",
       "      <th>message</th>\n",
       "      <th>message_id</th>\n",
       "    </tr>\n",
       "  </thead>\n",
       "  <tbody>\n",
       "    <tr>\n",
       "      <th>0</th>\n",
       "      <td>AAPL</td>\n",
       "      <td>Bullish</td>\n",
       "      <td>$AAPL ain’t nobody selling. Shorts need to cov...</td>\n",
       "      <td>304543565</td>\n",
       "    </tr>\n",
       "    <tr>\n",
       "      <th>1</th>\n",
       "      <td>AAPL</td>\n",
       "      <td>Bullish</td>\n",
       "      <td>$QRVO today watch lists $CCIV $AAPL $RBLX</td>\n",
       "      <td>304543491</td>\n",
       "    </tr>\n",
       "    <tr>\n",
       "      <th>2</th>\n",
       "      <td>AAPL</td>\n",
       "      <td>Bullish</td>\n",
       "      <td>$AAPL could you imagine if we see $133+ by Fri...</td>\n",
       "      <td>304542855</td>\n",
       "    </tr>\n",
       "    <tr>\n",
       "      <th>3</th>\n",
       "      <td>AAPL</td>\n",
       "      <td>Bullish</td>\n",
       "      <td>$AAPL will revisit mid 126.xx\\nWay too early i...</td>\n",
       "      <td>304542796</td>\n",
       "    </tr>\n",
       "    <tr>\n",
       "      <th>4</th>\n",
       "      <td>AAPL</td>\n",
       "      <td>Bullish</td>\n",
       "      <td>$AAPL \\n\\nBears are cocksuckers</td>\n",
       "      <td>304542546</td>\n",
       "    </tr>\n",
       "    <tr>\n",
       "      <th>...</th>\n",
       "      <td>...</td>\n",
       "      <td>...</td>\n",
       "      <td>...</td>\n",
       "      <td>...</td>\n",
       "    </tr>\n",
       "    <tr>\n",
       "      <th>291563</th>\n",
       "      <td>FB</td>\n",
       "      <td>Bullish</td>\n",
       "      <td>$FB I&amp;#39;m excited about next week</td>\n",
       "      <td>19228876</td>\n",
       "    </tr>\n",
       "    <tr>\n",
       "      <th>291564</th>\n",
       "      <td>FB</td>\n",
       "      <td>Bullish</td>\n",
       "      <td>@flavisam_letstradeshares Agree re $fb</td>\n",
       "      <td>19228800</td>\n",
       "    </tr>\n",
       "    <tr>\n",
       "      <th>291565</th>\n",
       "      <td>FB</td>\n",
       "      <td>Bullish</td>\n",
       "      <td>$FB looking to test the 52w high at 58.96 (Jan9)</td>\n",
       "      <td>19228632</td>\n",
       "    </tr>\n",
       "    <tr>\n",
       "      <th>291566</th>\n",
       "      <td>FB</td>\n",
       "      <td>Bullish</td>\n",
       "      <td>Recent sold $BBRY $IRWD $OREX $ACHN $LNKD $ANG...</td>\n",
       "      <td>19228264</td>\n",
       "    </tr>\n",
       "    <tr>\n",
       "      <th>291567</th>\n",
       "      <td>FB</td>\n",
       "      <td>Bearish</td>\n",
       "      <td>$FB: this one keeps forging ahead. Bullish sen...</td>\n",
       "      <td>19228259</td>\n",
       "    </tr>\n",
       "  </tbody>\n",
       "</table>\n",
       "<p>291568 rows × 4 columns</p>\n",
       "</div>"
      ],
      "text/plain": [
       "       symbol sentiment                                            message  \\\n",
       "0        AAPL   Bullish  $AAPL ain’t nobody selling. Shorts need to cov...   \n",
       "1        AAPL   Bullish          $QRVO today watch lists $CCIV $AAPL $RBLX   \n",
       "2        AAPL   Bullish  $AAPL could you imagine if we see $133+ by Fri...   \n",
       "3        AAPL   Bullish  $AAPL will revisit mid 126.xx\\nWay too early i...   \n",
       "4        AAPL   Bullish                    $AAPL \\n\\nBears are cocksuckers   \n",
       "...       ...       ...                                                ...   \n",
       "291563     FB   Bullish                $FB I&#39;m excited about next week   \n",
       "291564     FB   Bullish             @flavisam_letstradeshares Agree re $fb   \n",
       "291565     FB   Bullish   $FB looking to test the 52w high at 58.96 (Jan9)   \n",
       "291566     FB   Bullish  Recent sold $BBRY $IRWD $OREX $ACHN $LNKD $ANG...   \n",
       "291567     FB   Bearish  $FB: this one keeps forging ahead. Bullish sen...   \n",
       "\n",
       "        message_id  \n",
       "0        304543565  \n",
       "1        304543491  \n",
       "2        304542855  \n",
       "3        304542796  \n",
       "4        304542546  \n",
       "...            ...  \n",
       "291563    19228876  \n",
       "291564    19228800  \n",
       "291565    19228632  \n",
       "291566    19228264  \n",
       "291567    19228259  \n",
       "\n",
       "[291568 rows x 4 columns]"
      ]
     },
     "execution_count": 2,
     "metadata": {},
     "output_type": "execute_result"
    }
   ],
   "source": [
    "unprocessed_stocks = pd.read_csv(\"./data/stock_db.csv\")\n",
    "unprocessed_crypto = pd.read_csv(\"./data/crypto_db.csv\")\n",
    "unprocessed_stocks"
   ]
  },
  {
   "cell_type": "code",
   "execution_count": 3,
   "metadata": {},
   "outputs": [
    {
     "name": "stdout",
     "output_type": "stream",
     "text": [
      "291568\n",
      "305974\n"
     ]
    }
   ],
   "source": [
    "print(len(unprocessed_stocks))\n",
    "print(len(unprocessed_crypto))"
   ]
  },
  {
   "cell_type": "markdown",
   "metadata": {},
   "source": [
    "# Visualizing the data"
   ]
  },
  {
   "cell_type": "code",
   "execution_count": 4,
   "metadata": {},
   "outputs": [
    {
     "data": {
      "text/plain": [
       "<seaborn.axisgrid.FacetGrid at 0x11ecf1c10>"
      ]
     },
     "execution_count": 4,
     "metadata": {},
     "output_type": "execute_result"
    },
    {
     "data": {
      "image/png": "[encoded data removed]",
      "text/plain": [
       "<Figure size 360x360 with 1 Axes>"
      ]
     },
     "metadata": {
      "needs_background": "light"
     },
     "output_type": "display_data"
    },
    {
     "data": {
      "image/png": "[encoded data removed]",
      "text/plain": [
       "<Figure size 360x360 with 1 Axes>"
      ]
     },
     "metadata": {
      "needs_background": "light"
     },
     "output_type": "display_data"
    },
    {
     "data": {
      "image/png": "[encoded data removed]",
      "text/plain": [
       "<Figure size 360x360 with 1 Axes>"
      ]
     },
     "metadata": {
      "needs_background": "light"
     },
     "output_type": "display_data"
    },
    {
     "data": {
      "image/png": "[encoded data removed]",
      "text/plain": [
       "<Figure size 360x360 with 1 Axes>"
      ]
     },
     "metadata": {
      "needs_background": "light"
     },
     "output_type": "display_data"
    }
   ],
   "source": [
    "sns.displot(unprocessed_stocks, x=\"symbol\")\n",
    "sns.displot(unprocessed_crypto, x=\"symbol\")\n",
    "sns.displot(unprocessed_stocks, x=\"sentiment\")\n",
    "sns.displot(unprocessed_crypto, x=\"sentiment\")"
   ]
  },
  {
   "cell_type": "markdown",
   "metadata": {},
   "source": [
    "# Preprocessing\n",
    "Here we define our preprocess function, one needs to specify which preprocessing functions he wants to be applied to the data messages\n",
    "\n"
   ]
  },
  {
   "cell_type": "code",
   "execution_count": 5,
   "metadata": {},
   "outputs": [
    {
     "name": "stderr",
     "output_type": "stream",
     "text": [
      "[nltk_data] Downloading package words to /Users/aminelz/nltk_data...\n",
      "[nltk_data]   Package words is already up-to-date!\n",
      "[nltk_data] Downloading package wordnet to /Users/aminelz/nltk_data...\n",
      "[nltk_data]   Package wordnet is already up-to-date!\n"
     ]
    }
   ],
   "source": [
    "from preprocessing import preprocess"
   ]
  },
  {
   "cell_type": "code",
   "execution_count": 6,
   "metadata": {},
   "outputs": [
    {
     "data": {
      "text/html": [
       "<div>\n",
       "<style scoped>\n",
       "    .dataframe tbody tr th:only-of-type {\n",
       "        vertical-align: middle;\n",
       "    }\n",
       "\n",
       "    .dataframe tbody tr th {\n",
       "        vertical-align: top;\n",
       "    }\n",
       "\n",
       "    .dataframe thead th {\n",
       "        text-align: right;\n",
       "    }\n",
       "</style>\n",
       "<table border=\"1\" class=\"dataframe\">\n",
       "  <thead>\n",
       "    <tr style=\"text-align: right;\">\n",
       "      <th></th>\n",
       "      <th>symbol</th>\n",
       "      <th>sentiment</th>\n",
       "      <th>message</th>\n",
       "      <th>message_id</th>\n",
       "    </tr>\n",
       "  </thead>\n",
       "  <tbody>\n",
       "    <tr>\n",
       "      <th>0</th>\n",
       "      <td>BTC.X</td>\n",
       "      <td>Bullish</td>\n",
       "      <td>$BTC.X go go you beautiful bastard</td>\n",
       "      <td>304543745</td>\n",
       "    </tr>\n",
       "    <tr>\n",
       "      <th>1</th>\n",
       "      <td>BTC.X</td>\n",
       "      <td>Bullish</td>\n",
       "      <td>$ZIL.X $NIO $SSNLF $ETH.X $BTC.X \\n\\nhttps://t...</td>\n",
       "      <td>304543536</td>\n",
       "    </tr>\n",
       "    <tr>\n",
       "      <th>2</th>\n",
       "      <td>BTC.X</td>\n",
       "      <td>Bullish</td>\n",
       "      <td>$BTC.X Bitcoin is like real estate in Palm Bea...</td>\n",
       "      <td>304543059</td>\n",
       "    </tr>\n",
       "    <tr>\n",
       "      <th>3</th>\n",
       "      <td>BTC.X</td>\n",
       "      <td>Bearish</td>\n",
       "      <td>$BTC.X dump city, dump dump city</td>\n",
       "      <td>304542929</td>\n",
       "    </tr>\n",
       "    <tr>\n",
       "      <th>4</th>\n",
       "      <td>BTC.X</td>\n",
       "      <td>Bullish</td>\n",
       "      <td>$AABB this baby about to 🚀🚀🚀$RIOT $MARA $FCEL ...</td>\n",
       "      <td>304542879</td>\n",
       "    </tr>\n",
       "    <tr>\n",
       "      <th>...</th>\n",
       "      <td>...</td>\n",
       "      <td>...</td>\n",
       "      <td>...</td>\n",
       "      <td>...</td>\n",
       "    </tr>\n",
       "    <tr>\n",
       "      <th>597537</th>\n",
       "      <td>FB</td>\n",
       "      <td>Bullish</td>\n",
       "      <td>$FB I&amp;#39;m excited about next week</td>\n",
       "      <td>19228876</td>\n",
       "    </tr>\n",
       "    <tr>\n",
       "      <th>597538</th>\n",
       "      <td>FB</td>\n",
       "      <td>Bullish</td>\n",
       "      <td>@flavisam_letstradeshares Agree re $fb</td>\n",
       "      <td>19228800</td>\n",
       "    </tr>\n",
       "    <tr>\n",
       "      <th>597539</th>\n",
       "      <td>FB</td>\n",
       "      <td>Bullish</td>\n",
       "      <td>$FB looking to test the 52w high at 58.96 (Jan9)</td>\n",
       "      <td>19228632</td>\n",
       "    </tr>\n",
       "    <tr>\n",
       "      <th>597540</th>\n",
       "      <td>FB</td>\n",
       "      <td>Bullish</td>\n",
       "      <td>Recent sold $BBRY $IRWD $OREX $ACHN $LNKD $ANG...</td>\n",
       "      <td>19228264</td>\n",
       "    </tr>\n",
       "    <tr>\n",
       "      <th>597541</th>\n",
       "      <td>FB</td>\n",
       "      <td>Bearish</td>\n",
       "      <td>$FB: this one keeps forging ahead. Bullish sen...</td>\n",
       "      <td>19228259</td>\n",
       "    </tr>\n",
       "  </tbody>\n",
       "</table>\n",
       "<p>597542 rows × 4 columns</p>\n",
       "</div>"
      ],
      "text/plain": [
       "       symbol sentiment                                            message  \\\n",
       "0       BTC.X   Bullish                 $BTC.X go go you beautiful bastard   \n",
       "1       BTC.X   Bullish  $ZIL.X $NIO $SSNLF $ETH.X $BTC.X \\n\\nhttps://t...   \n",
       "2       BTC.X   Bullish  $BTC.X Bitcoin is like real estate in Palm Bea...   \n",
       "3       BTC.X   Bearish                   $BTC.X dump city, dump dump city   \n",
       "4       BTC.X   Bullish  $AABB this baby about to 🚀🚀🚀$RIOT $MARA $FCEL ...   \n",
       "...       ...       ...                                                ...   \n",
       "597537     FB   Bullish                $FB I&#39;m excited about next week   \n",
       "597538     FB   Bullish             @flavisam_letstradeshares Agree re $fb   \n",
       "597539     FB   Bullish   $FB looking to test the 52w high at 58.96 (Jan9)   \n",
       "597540     FB   Bullish  Recent sold $BBRY $IRWD $OREX $ACHN $LNKD $ANG...   \n",
       "597541     FB   Bearish  $FB: this one keeps forging ahead. Bullish sen...   \n",
       "\n",
       "        message_id  \n",
       "0        304543745  \n",
       "1        304543536  \n",
       "2        304543059  \n",
       "3        304542929  \n",
       "4        304542879  \n",
       "...            ...  \n",
       "597537    19228876  \n",
       "597538    19228800  \n",
       "597539    19228632  \n",
       "597540    19228264  \n",
       "597541    19228259  \n",
       "\n",
       "[597542 rows x 4 columns]"
      ]
     },
     "execution_count": 6,
     "metadata": {},
     "output_type": "execute_result"
    }
   ],
   "source": [
    "all_processed = pd.concat([unprocessed_crypto, unprocessed_stocks], ignore_index=True)\n",
    "all_processed"
   ]
  },
  {
   "cell_type": "code",
   "execution_count": 32,
   "metadata": {},
   "outputs": [
    {
     "data": {
      "text/plain": [
       "AMZN     95717\n",
       "ETH.X    95360\n",
       "FB       89417\n",
       "LTC.X    83861\n",
       "XRP.X    79635\n",
       "GOOGL    55188\n",
       "AAPL     51246\n",
       "BTC.X    47118\n",
       "Name: symbol, dtype: int64"
      ]
     },
     "execution_count": 32,
     "metadata": {},
     "output_type": "execute_result"
    }
   ],
   "source": [
    "all_processed['symbol'].value_counts()"
   ]
  },
  {
   "cell_type": "code",
   "execution_count": 33,
   "metadata": {},
   "outputs": [
    {
     "data": {
      "text/plain": [
       "Bullish    494034\n",
       "Bearish    103508\n",
       "Name: sentiment, dtype: int64"
      ]
     },
     "execution_count": 33,
     "metadata": {},
     "output_type": "execute_result"
    }
   ],
   "source": [
    "all_processed['sentiment'].value_counts()"
   ]
  },
  {
   "cell_type": "code",
   "execution_count": 7,
   "metadata": {},
   "outputs": [
    {
     "name": "stdout",
     "output_type": "stream",
     "text": [
      "CPU times: user 5min 24s, sys: 610 ms, total: 5min 25s\n",
      "Wall time: 5min 27s\n"
     ]
    },
    {
     "data": {
      "text/html": [
       "<div>\n",
       "<style scoped>\n",
       "    .dataframe tbody tr th:only-of-type {\n",
       "        vertical-align: middle;\n",
       "    }\n",
       "\n",
       "    .dataframe tbody tr th {\n",
       "        vertical-align: top;\n",
       "    }\n",
       "\n",
       "    .dataframe thead th {\n",
       "        text-align: right;\n",
       "    }\n",
       "</style>\n",
       "<table border=\"1\" class=\"dataframe\">\n",
       "  <thead>\n",
       "    <tr style=\"text-align: right;\">\n",
       "      <th></th>\n",
       "      <th>symbol</th>\n",
       "      <th>sentiment</th>\n",
       "      <th>message</th>\n",
       "      <th>message_id</th>\n",
       "    </tr>\n",
       "  </thead>\n",
       "  <tbody>\n",
       "    <tr>\n",
       "      <th>0</th>\n",
       "      <td>BTC.X</td>\n",
       "      <td>Bullish</td>\n",
       "      <td>$btc.x go go you beautiful bastard</td>\n",
       "      <td>304543745</td>\n",
       "    </tr>\n",
       "    <tr>\n",
       "      <th>1</th>\n",
       "      <td>BTC.X</td>\n",
       "      <td>Bullish</td>\n",
       "      <td>$zil.x $nio $ssnlf $eth.x $btc.x https://thefi...</td>\n",
       "      <td>304543536</td>\n",
       "    </tr>\n",
       "    <tr>\n",
       "      <th>2</th>\n",
       "      <td>BTC.X</td>\n",
       "      <td>Bullish</td>\n",
       "      <td>$btc.x bitcoin is like real estate in palm bea...</td>\n",
       "      <td>304543059</td>\n",
       "    </tr>\n",
       "    <tr>\n",
       "      <th>3</th>\n",
       "      <td>BTC.X</td>\n",
       "      <td>Bearish</td>\n",
       "      <td>$btc.x dump city, dump dump city</td>\n",
       "      <td>304542929</td>\n",
       "    </tr>\n",
       "    <tr>\n",
       "      <th>4</th>\n",
       "      <td>BTC.X</td>\n",
       "      <td>Bullish</td>\n",
       "      <td>$aabb this baby about to :rocket: :rocket: :ro...</td>\n",
       "      <td>304542879</td>\n",
       "    </tr>\n",
       "    <tr>\n",
       "      <th>...</th>\n",
       "      <td>...</td>\n",
       "      <td>...</td>\n",
       "      <td>...</td>\n",
       "      <td>...</td>\n",
       "    </tr>\n",
       "    <tr>\n",
       "      <th>597537</th>\n",
       "      <td>FB</td>\n",
       "      <td>Bullish</td>\n",
       "      <td>$fb i&amp;#39;m excited about next week</td>\n",
       "      <td>19228876</td>\n",
       "    </tr>\n",
       "    <tr>\n",
       "      <th>597538</th>\n",
       "      <td>FB</td>\n",
       "      <td>Bullish</td>\n",
       "      <td>@flavisam_letstradeshares agree re $fb</td>\n",
       "      <td>19228800</td>\n",
       "    </tr>\n",
       "    <tr>\n",
       "      <th>597539</th>\n",
       "      <td>FB</td>\n",
       "      <td>Bullish</td>\n",
       "      <td>$fb looking to test the 52w high at 58.96 (jan9)</td>\n",
       "      <td>19228632</td>\n",
       "    </tr>\n",
       "    <tr>\n",
       "      <th>597540</th>\n",
       "      <td>FB</td>\n",
       "      <td>Bullish</td>\n",
       "      <td>recent sold $bbry $irwd $orex $achn $lnkd $ang...</td>\n",
       "      <td>19228264</td>\n",
       "    </tr>\n",
       "    <tr>\n",
       "      <th>597541</th>\n",
       "      <td>FB</td>\n",
       "      <td>Bearish</td>\n",
       "      <td>$fb: this one keeps forging ahead. bullish sen...</td>\n",
       "      <td>19228259</td>\n",
       "    </tr>\n",
       "  </tbody>\n",
       "</table>\n",
       "<p>597542 rows × 4 columns</p>\n",
       "</div>"
      ],
      "text/plain": [
       "       symbol sentiment                                            message  \\\n",
       "0       BTC.X   Bullish                 $btc.x go go you beautiful bastard   \n",
       "1       BTC.X   Bullish  $zil.x $nio $ssnlf $eth.x $btc.x https://thefi...   \n",
       "2       BTC.X   Bullish  $btc.x bitcoin is like real estate in palm bea...   \n",
       "3       BTC.X   Bearish                   $btc.x dump city, dump dump city   \n",
       "4       BTC.X   Bullish  $aabb this baby about to :rocket: :rocket: :ro...   \n",
       "...       ...       ...                                                ...   \n",
       "597537     FB   Bullish                $fb i&#39;m excited about next week   \n",
       "597538     FB   Bullish             @flavisam_letstradeshares agree re $fb   \n",
       "597539     FB   Bullish   $fb looking to test the 52w high at 58.96 (jan9)   \n",
       "597540     FB   Bullish  recent sold $bbry $irwd $orex $achn $lnkd $ang...   \n",
       "597541     FB   Bearish  $fb: this one keeps forging ahead. bullish sen...   \n",
       "\n",
       "        message_id  \n",
       "0        304543745  \n",
       "1        304543536  \n",
       "2        304543059  \n",
       "3        304542929  \n",
       "4        304542879  \n",
       "...            ...  \n",
       "597537    19228876  \n",
       "597538    19228800  \n",
       "597539    19228632  \n",
       "597540    19228264  \n",
       "597541    19228259  \n",
       "\n",
       "[597542 rows x 4 columns]"
      ]
     },
     "execution_count": 7,
     "metadata": {},
     "output_type": "execute_result"
    }
   ],
   "source": [
    "%%time\n",
    "all_processed = preprocess(all_processed, punc=False, lower=True, lemma=False, em_rep=True, num=False, stopw=False, misspell=False)\n",
    "all_processed\n"
   ]
  },
  {
   "cell_type": "code",
   "execution_count": 8,
   "metadata": {},
   "outputs": [
    {
     "data": {
      "text/plain": [
       "Bullish    494034\n",
       "Bearish    103508\n",
       "Name: sentiment, dtype: int64"
      ]
     },
     "execution_count": 8,
     "metadata": {},
     "output_type": "execute_result"
    }
   ],
   "source": [
    "all_processed['sentiment'].value_counts()"
   ]
  },
  {
   "cell_type": "code",
   "execution_count": 9,
   "metadata": {},
   "outputs": [
    {
     "name": "stdout",
     "output_type": "stream",
     "text": [
      "Bullish    103508\n",
      "Bearish    103508\n",
      "Name: sentiment, dtype: int64\n"
     ]
    }
   ],
   "source": [
    "balanced_processed = all_processed.groupby('sentiment').apply(lambda x:x.sample(103508)).reset_index(drop=True)\n",
    "print(balanced_processed['sentiment'].value_counts())\n"
   ]
  },
  {
   "cell_type": "code",
   "execution_count": 10,
   "metadata": {},
   "outputs": [],
   "source": [
    "X_train, X_test, y_train, y_test = train_test_split(balanced_processed['message'], balanced_processed['sentiment'], test_size=0.3, random_state=500, stratify=balanced_processed['sentiment'])\n",
    "\n"
   ]
  },
  {
   "cell_type": "code",
   "execution_count": 11,
   "metadata": {},
   "outputs": [
    {
     "name": "stdout",
     "output_type": "stream",
     "text": [
      "CPU times: user 6.79 s, sys: 114 ms, total: 6.9 s\n",
      "Wall time: 6.91 s\n"
     ]
    }
   ],
   "source": [
    "%%time\n",
    "Tfidf_vect = TfidfVectorizer()\n",
    "Tfidf_vect.fit(X_train)\n",
    "Train_X_Tfidf = Tfidf_vect.transform(X_train)\n",
    "Test_X_Tfidf = Tfidf_vect.transform(X_test)"
   ]
  },
  {
   "cell_type": "markdown",
   "metadata": {},
   "source": [
    "# Naive Bayes"
   ]
  },
  {
   "cell_type": "code",
   "execution_count": 23,
   "metadata": {},
   "outputs": [
    {
     "name": "stdout",
     "output_type": "stream",
     "text": [
      "MNB Accuracy Score->  77.22727638676436\n",
      "Accuracy: 77.2%\n",
      "Precision: 77.2%\n",
      "Recall: 77.2%\n",
      "F1: 77.2%\n",
      "classification_report:\n",
      "\n",
      "              precision    recall  f1-score   support\n",
      "\n",
      "     class_0      0.786     0.765     0.775     31878\n",
      "     class_1      0.759     0.780     0.769     30227\n",
      "\n",
      "    accuracy                          0.772     62105\n",
      "   macro avg      0.772     0.772     0.772     62105\n",
      "weighted avg      0.773     0.772     0.772     62105\n",
      "\n",
      "CPU times: user 5.93 s, sys: 350 ms, total: 6.28 s\n",
      "Wall time: 6.56 s\n"
     ]
    },
    {
     "data": {
      "image/png": "[encoded data removed]",
      "text/plain": [
       "<Figure size 432x288 with 2 Axes>"
      ]
     },
     "metadata": {
      "needs_background": "light"
     },
     "output_type": "display_data"
    }
   ],
   "source": [
    "%%time\n",
    "MNB = MultinomialNB()\n",
    "MNB.fit(Train_X_Tfidf,y_train)\n",
    "predictions_MNB = MNB.predict(Test_X_Tfidf)\n",
    "# Use accuracy_score function to get the accuracy\n",
    "print(\"MNB Accuracy Score-> \",accuracy_score(predictions_MNB, y_test)*100)\n",
    "plot_confusion_matrix(MNB, Test_X_Tfidf, y_test)  \n",
    "Metric(predictions_MNB, y_test) "
   ]
  },
  {
   "cell_type": "markdown",
   "metadata": {},
   "source": [
    "# Logistic Regression"
   ]
  },
  {
   "cell_type": "code",
   "execution_count": 24,
   "metadata": {},
   "outputs": [
    {
     "name": "stderr",
     "output_type": "stream",
     "text": [
      "/usr/local/lib/python3.8/site-packages/sklearn/linear_model/_logistic.py:762: ConvergenceWarning: lbfgs failed to converge (status=1):\n",
      "STOP: TOTAL NO. of ITERATIONS REACHED LIMIT.\n",
      "\n",
      "Increase the number of iterations (max_iter) or scale the data as shown in:\n",
      "    https://scikit-learn.org/stable/modules/preprocessing.html\n",
      "Please also refer to the documentation for alternative solver options:\n",
      "    https://scikit-learn.org/stable/modules/linear_model.html#logistic-regression\n",
      "  n_iter_i = _check_optimize_result(\n"
     ]
    },
    {
     "name": "stdout",
     "output_type": "stream",
     "text": [
      "SVM Accuracy Score->  78.59270590129618\n",
      "Accuracy: 78.6%\n",
      "Precision: 78.6%\n",
      "Recall: 78.6%\n",
      "F1: 78.6%\n",
      "classification_report:\n",
      "\n",
      "              precision    recall  f1-score   support\n",
      "\n",
      "     class_0      0.781     0.789     0.785     30758\n",
      "     class_1      0.791     0.783     0.787     31347\n",
      "\n",
      "    accuracy                          0.786     62105\n",
      "   macro avg      0.786     0.786     0.786     62105\n",
      "weighted avg      0.786     0.786     0.786     62105\n",
      "\n",
      "CPU times: user 13.7 s, sys: 1.04 s, total: 14.7 s\n",
      "Wall time: 9.61 s\n"
     ]
    },
    {
     "data": {
      "image/png": "[encoded data removed]",
      "text/plain": [
       "<Figure size 432x288 with 2 Axes>"
      ]
     },
     "metadata": {
      "needs_background": "light"
     },
     "output_type": "display_data"
    }
   ],
   "source": [
    "%%time\n",
    "LR = LogisticRegression()\n",
    "LR.fit(Train_X_Tfidf, y_train)\n",
    "predictions_LR = LR.predict(Test_X_Tfidf)\n",
    "# Use accuracy_score function to get the accuracy\n",
    "print(\"SVM Accuracy Score-> \",accuracy_score(predictions_LR, y_test)*100)\n",
    "plot_confusion_matrix(LR, Test_X_Tfidf, y_test)  \n",
    "Metric(predictions_LR, y_test) "
   ]
  },
  {
   "cell_type": "markdown",
   "metadata": {},
   "source": [
    "# KNN "
   ]
  },
  {
   "cell_type": "code",
   "execution_count": 25,
   "metadata": {},
   "outputs": [
    {
     "name": "stdout",
     "output_type": "stream",
     "text": [
      "SVM Accuracy Score->  74.07938169229531\n",
      "Accuracy: 74.1%\n",
      "Precision: 74.1%\n",
      "Recall: 74.1%\n",
      "F1: 74.1%\n",
      "classification_report:\n",
      "\n",
      "              precision    recall  f1-score   support\n",
      "\n",
      "     class_0      0.765     0.730     0.747     32569\n",
      "     class_1      0.716     0.753     0.734     29536\n",
      "\n",
      "    accuracy                          0.741     62105\n",
      "   macro avg      0.741     0.741     0.741     62105\n",
      "weighted avg      0.742     0.741     0.741     62105\n",
      "\n",
      "CPU times: user 9min 19s, sys: 2min 20s, total: 11min 40s\n",
      "Wall time: 12min 9s\n"
     ]
    },
    {
     "data": {
      "image/png": "[encoded data removed]",
      "text/plain": [
       "<Figure size 432x288 with 2 Axes>"
      ]
     },
     "metadata": {
      "needs_background": "light"
     },
     "output_type": "display_data"
    }
   ],
   "source": [
    "%%time\n",
    "KNN = KNeighborsClassifier()\n",
    "KNN.fit(Train_X_Tfidf, y_train)\n",
    "predictions_KNN = KNN.predict(Test_X_Tfidf)\n",
    "# Use accuracy_score function to get the accuracy\n",
    "print(\"SVM Accuracy Score-> \",accuracy_score(predictions_KNN, y_test)*100)\n",
    "plot_confusion_matrix(KNN, Test_X_Tfidf, y_test) \n",
    "Metric(predictions_KNN, y_test) "
   ]
  },
  {
   "cell_type": "markdown",
   "metadata": {},
   "source": [
    "# SVC"
   ]
  },
  {
   "cell_type": "code",
   "execution_count": 26,
   "metadata": {},
   "outputs": [
    {
     "name": "stdout",
     "output_type": "stream",
     "text": [
      "SVM Accuracy Score->  78.82779164318492\n",
      "Accuracy: 78.8%\n",
      "Precision: 78.8%\n",
      "Recall: 78.8%\n",
      "F1: 78.8%\n",
      "classification_report:\n",
      "\n",
      "              precision    recall  f1-score   support\n",
      "\n",
      "     class_0      0.789     0.788     0.788     31072\n",
      "     class_1      0.788     0.788     0.788     31033\n",
      "\n",
      "    accuracy                          0.788     62105\n",
      "   macro avg      0.788     0.788     0.788     62105\n",
      "weighted avg      0.788     0.788     0.788     62105\n",
      "\n",
      "CPU times: user 8.88 s, sys: 184 ms, total: 9.07 s\n",
      "Wall time: 9.31 s\n"
     ]
    },
    {
     "data": {
      "image/png": "[encoded data removed]",
      "text/plain": [
       "<Figure size 432x288 with 2 Axes>"
      ]
     },
     "metadata": {
      "needs_background": "light"
     },
     "output_type": "display_data"
    }
   ],
   "source": [
    "%%time\n",
    "# Classifier - Algorithm - SVM\n",
    "# fit the training dataset on the classifier\n",
    "SVM = svm.LinearSVC()\n",
    "SVM.fit(Train_X_Tfidf,y_train)\n",
    "predictions_SVM = SVM.predict(Test_X_Tfidf)\n",
    "# Use accuracy_score function to get the accuracy\n",
    "print(\"SVM Accuracy Score-> \",accuracy_score(predictions_SVM, y_test)*100)\n",
    "plot_confusion_matrix(SVM, Test_X_Tfidf, y_test)  \n",
    "Metric(predictions_SVM, y_test) "
   ]
  },
  {
   "cell_type": "code",
   "execution_count": 27,
   "metadata": {},
   "outputs": [
    {
     "name": "stdout",
     "output_type": "stream",
     "text": [
      "SVM Accuracy Score->  79.143386200789\n",
      "Accuracy: 79.1%\n",
      "Precision: 79.1%\n",
      "Recall: 79.1%\n",
      "F1: 79.1%\n",
      "classification_report:\n",
      "\n",
      "              precision    recall  f1-score   support\n",
      "\n",
      "     class_0      0.786     0.795     0.790     30704\n",
      "     class_1      0.797     0.788     0.793     31401\n",
      "\n",
      "    accuracy                          0.791     62105\n",
      "   macro avg      0.791     0.791     0.791     62105\n",
      "weighted avg      0.791     0.791     0.791     62105\n",
      "\n",
      "CPU times: user 1h 28min 45s, sys: 29.2 s, total: 1h 29min 14s\n",
      "Wall time: 1h 29min 58s\n"
     ]
    },
    {
     "data": {
      "image/png": "[encoded data removed]",
      "text/plain": [
       "<Figure size 432x288 with 2 Axes>"
      ]
     },
     "metadata": {
      "needs_background": "light"
     },
     "output_type": "display_data"
    }
   ],
   "source": [
    "%%time\n",
    "# Classifier - Algorithm - SVM\n",
    "# fit the training dataset on the classifier\n",
    "SVM = svm.SVC(kernel='linear')\n",
    "SVM.fit(Train_X_Tfidf,y_train)\n",
    "predictions_SVM = SVM.predict(Test_X_Tfidf)\n",
    "# Use accuracy_score function to get the accuracy\n",
    "print(\"SVM Accuracy Score-> \",accuracy_score(predictions_SVM, y_test)*100)\n",
    "plot_confusion_matrix(SVM, Test_X_Tfidf, y_test)  \n",
    "Metric(predictions_SVM, y_test) "
   ]
  },
  {
   "cell_type": "code",
   "execution_count": 31,
   "metadata": {},
   "outputs": [
    {
     "name": "stdout",
     "output_type": "stream",
     "text": [
      "SVM Accuracy Score->  50.247162064246034\n",
      "Accuracy: 50.2%\n",
      "Precision: 50.2%\n",
      "Recall: 50.2%\n",
      "F1: 50.2%\n",
      "classification_report:\n",
      "\n",
      "              precision    recall  f1-score   support\n",
      "\n",
      "     class_0      0.499     0.502     0.501     30854\n",
      "     class_1      0.506     0.502     0.504     31251\n",
      "\n",
      "    accuracy                          0.502     62105\n",
      "   macro avg      0.502     0.502     0.502     62105\n",
      "weighted avg      0.502     0.502     0.502     62105\n",
      "\n",
      "CPU times: user 5.82 s, sys: 20 ms, total: 5.84 s\n",
      "Wall time: 5.86 s\n"
     ]
    },
    {
     "data": {
      "image/png": "[encoded data removed]",
      "text/plain": [
       "<Figure size 432x288 with 2 Axes>"
      ]
     },
     "metadata": {
      "needs_background": "light"
     },
     "output_type": "display_data"
    }
   ],
   "source": [
    "%%time\n",
    "from sklearn.dummy import DummyClassifier\n",
    "# Classifier - Algorithm - SVM\n",
    "# fit the training dataset on the classifier\n",
    "DC = DummyClassifier()\n",
    "DC.fit(Train_X_Tfidf,y_train)\n",
    "predictions_DC = DC.predict(Test_X_Tfidf)\n",
    "# Use accuracy_score function to get the accuracy\n",
    "print(\"SVM Accuracy Score-> \",accuracy_score(predictions_DC, y_test)*100)\n",
    "plot_confusion_matrix(DC, Test_X_Tfidf, y_test)  \n",
    "Metric(predictions_DC, y_test) "
   ]
  },
  {
   "cell_type": "code",
   "execution_count": null,
   "metadata": {
    "collapsed": true
   },
   "outputs": [],
   "source": []
  }
 ],
 "metadata": {
  "kernelspec": {
   "display_name": "Python 3",
   "language": "python",
   "name": "python3"
  },
  "language_info": {
   "codemirror_mode": {
    "name": "ipython",
    "version": 3
   },
   "file_extension": ".py",
   "mimetype": "text/x-python",
   "name": "python",
   "nbconvert_exporter": "python",
   "pygments_lexer": "ipython3",
   "version": "3.8.5"
  }
 },
 "nbformat": 4,
 "nbformat_minor": 4
}
